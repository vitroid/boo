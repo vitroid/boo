{
  "cells": [
    {
      "cell_type": "markdown",
      "metadata": {},
      "source": [
        "## Methane 1\n"
      ]
    },
    {
      "cell_type": "markdown",
      "metadata": {},
      "source": [
        "Methane 1のgroファイルを作ってみよう。"
      ]
    },
    {
      "cell_type": "code",
      "execution_count": 1,
      "metadata": {},
      "outputs": [
        {
          "name": "stdout",
          "output_type": "stream",
          "text": [
            "[[2.2627417 0.        0.       ]\n",
            " [0.        2.2627417 0.       ]\n",
            " [0.        0.        2.2627417]]\n"
          ]
        }
      ],
      "source": [
        "import gromacs\n",
        "import numpy as np\n",
        "\n",
        "\n",
        "CH = 0.1087  # nm\n",
        "\n",
        "# 面心立方格子\n",
        "fcc = np.array([[1, 1, 1], [1, 0, 0], [0, 1, 0], [0, 0, 1]]) / 2**0.5\n",
        "\n",
        "CC = 0.4\n",
        "carbons = fcc * CC\n",
        "cell = np.eye(3) * 2**0.5 * CC\n",
        "carbons = carbons @ np.linalg.inv(cell)\n",
        "\n",
        "replicate = np.array([4, 4, 4])\n",
        "rep_carbons = []\n",
        "# 座標を3倍に増やす。もとがfractional座標なので、0〜3の範囲になる。\n",
        "for x in range(replicate[0]):\n",
        "    for y in range(replicate[0]):\n",
        "        for z in range(replicate[0]):\n",
        "            rep_carbons.append(carbons + np.array([x, y, z]))\n",
        "# 座標を0〜1におさめる\n",
        "rep_carbons = np.vstack(rep_carbons) / replicate\n",
        "# セルを大きくする。\n",
        "# 行ごとに係数をかけたい。\n",
        "# 多少なりとも読みやすく\n",
        "rep_cell = np.vstack(\n",
        "    [cell[0, :] * replicate[0], cell[1, :] * replicate[1], cell[2, :] * replicate[2]]\n",
        ")\n",
        "print(rep_cell)\n",
        "\n",
        "abs_carbons = rep_carbons @ rep_cell\n",
        "\n",
        "hydrogens = (\n",
        "    np.array([[-1, -1, -1], [-1, +1, +1], [+1, -1, +1], [+1, +1, -1]]) / 3**0.5 * CH\n",
        ")\n",
        "\n",
        "\n",
        "residues = dict()\n",
        "residues[\"MET\"] = [\n",
        "    [\n",
        "        [\"C\", pos],\n",
        "        [\"H\", pos + hydrogens[0]],\n",
        "        [\"H\", pos + hydrogens[1]],\n",
        "        [\"H\", pos + hydrogens[2]],\n",
        "        [\"H\", pos + hydrogens[3]],\n",
        "    ]\n",
        "    for pos in abs_carbons\n",
        "]\n",
        "\n",
        "frame = gromacs.compose(residues, rep_cell)\n",
        "with open(\"Me1.gro\", \"w\") as f:\n",
        "    gromacs.write_gro(frame, f)"
      ]
    },
    {
      "cell_type": "code",
      "execution_count": 2,
      "metadata": {},
      "outputs": [
        {
          "data": {
            "image/png": "[encoded data removed]",
            "text/plain": [
              "<Figure size 640x480 with 1 Axes>"
            ]
          },
          "metadata": {},
          "output_type": "display_data"
        }
      ],
      "source": [
        "import matplotlib.pyplot as plt\n",
        "\n",
        "distances = []\n",
        "for i, ci in enumerate(rep_carbons):\n",
        "    vectors = []\n",
        "    for cj in rep_carbons:\n",
        "        d = ci - cj\n",
        "        # PBC\n",
        "        d -= np.floor(d + 0.5)\n",
        "        # fractional to absolute\n",
        "        d = d @ rep_cell\n",
        "        distances.append(np.linalg.norm(d))\n",
        "\n",
        "H = plt.hist(distances, bins=100)"
      ]
    },
    {
      "cell_type": "code",
      "execution_count": null,
      "metadata": {},
      "outputs": [],
      "source": []
    }
  ],
  "metadata": {
    "colab": {
      "include_colab_link": true,
      "provenance": []
    },
    "kernelspec": {
      "display_name": "Python 3",
      "name": "python3"
    },
    "language_info": {
      "codemirror_mode": {
        "name": "ipython",
        "version": 3
      },
      "file_extension": ".py",
      "mimetype": "text/x-python",
      "name": "python",
      "nbconvert_exporter": "python",
      "pygments_lexer": "ipython3",
      "version": "3.11.4"
    }
  },
  "nbformat": 4,
  "nbformat_minor": 0
}
