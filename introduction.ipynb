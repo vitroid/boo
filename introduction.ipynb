{
  "cells": [
    {
      "cell_type": "markdown",
      "metadata": {
        "colab_type": "text",
        "id": "view-in-github"
      },
      "source": [
        "<a href=\"https://colab.research.google.com/github/vitroid/boo/blob/main/boo.ipynb\" target=\"_parent\"><img src=\"https://colab.research.google.com/assets/colab-badge.svg\" alt=\"Open In Colab\"/></a>"
      ]
    },
    {
      "cell_type": "markdown",
      "metadata": {
        "id": "Z6q8NAzGajSr"
      },
      "source": [
        "局所構造の指標としてよく使われるQ(あるいはq)について考察します。\n",
        "\n",
        "Qは球面調和関数を使って定義される指標です。\n",
        "\n",
        "$$ 式だれか書いて $$"
      ]
    },
    {
      "cell_type": "markdown",
      "metadata": {
        "id": "cDOfG76katXC"
      },
      "source": [
        "## 球面調和関数\n",
        "\n",
        "球面調和関数は、球面上に立つ波の形に関する基底です。\n",
        "\n",
        "「基底」、特に正規直交基底は、次のような条件を満たす関数群$b_n(x)$です。\n",
        "* 任意の関数$f(x)$が、基底の線形結合で表せる。(係数を$a_n$とする)\n",
        "$$ f(x) = \\sum_n a_n b_n(x) $$\n",
        "* 異なる基底同士を積分すると0 (直交性)\n",
        "$$ \\int_x b_m(x)b_n(x) \\mathrm d x=0 $$\n",
        "* 同じ基底の絶対値は1 (正規性)\n",
        "$$ \\int_x b_m(x)b_m(x) \\mathrm d x=1 $$\n",
        "\n",
        "最も身近な基底として、フーリエ基底があります。1次元の箱の中の波動関数は、n=1,2,3,4,...の正弦波で書ける、というあれです。\n",
        "\n",
        "球面調和関数の場合、球面上の関数なので、$x$に相当するものは、極座標系における2つの角$(\\theta, \\phi)$です。また、量子数も2つあります。\n",
        "\n",
        "球面調和関数は、水素原子の波動関数の式のなかにすでに出てきているので、見たことがあるはずです。\n",
        "\n"
      ]
    },
    {
      "cell_type": "code",
      "execution_count": null,
      "metadata": {
        "id": "55GKoAmTad6k"
      },
      "outputs": [],
      "source": [
        "from projection import mollweide_grid"
      ]
    },
    {
      "cell_type": "markdown",
      "metadata": {
        "id": "58x4rCuvl8a5"
      },
      "source": [
        "`scipy.special.sph_harm`関数は引数の順番がキモい。\n",
        "$Y_l^m(\\theta, \\phi)$==`sph_harm(m, l, phi, theta)`"
      ]
    },
    {
      "cell_type": "code",
      "execution_count": null,
      "metadata": {
        "id": "YT4qubRnmbJy"
      },
      "outputs": [],
      "source": [
        "import scipy.special\n",
        "import matplotlib.pyplot as plt\n",
        "\n",
        "keido, ido = mollweide_grid(width=100)\n",
        "# 緯度と極座標のthetaでは角度のとりかたが違う。\n",
        "theta = np.pi/2 - ido\n",
        "\n",
        "for l in range(1,4):           # 主量子数\n",
        "    for m in range(-l, l+1):   # 副量子数\n",
        "        # sph_harm関数は、経度緯度をarrayで渡せば、まとめて計算してくれる(numpy-ish)\n",
        "        Y = scipy.special.sph_harm(m, l, keido, theta, out=None)\n",
        "\n",
        "        # 2次元配列なので画像として表示する\n",
        "        fig, axs = plt.subplots(1,2)\n",
        "        sc = axs[0].imshow(Y.real, cmap='bwr')\n",
        "        sc = axs[1].imshow(Y.imag, cmap='bwr')\n",
        "        axs[0].set_title(f\"(l,m)=({l},{m}) real\")\n",
        "        axs[1].set_title(f\"(l,m)=({l},{m}) imaginary\")\n",
        "        # axs[1].colorbar(sc)\n",
        "        plt.show()"
      ]
    },
    {
      "cell_type": "markdown",
      "metadata": {
        "id": "Hsjk6k3QBe0z"
      },
      "source": [
        "実際に、球面調和関数が正規直交基底であることを数値積分で確かめてみよう。\n",
        "\n",
        "球面関数$f(\\theta, \\phi)$の球面積分は次のように書ける。\n",
        "$$I=\\int_0^\\pi\\int_0^{2\\pi}f(\\theta,\\phi)\\sin\\theta\\mathrm d\\phi\\mathrm d\\theta$$\n",
        "$Y_l^n$と$Y_{l'}^{n'}$が直交しているかどうかを確認しよう。"
      ]
    },
    {
      "cell_type": "code",
      "execution_count": null,
      "metadata": {
        "id": "6fXvIQ3MBeOv"
      },
      "outputs": [],
      "source": [
        "def spherical_integ(f, theta, dtheta, dphi):\n",
        "    \"\"\"\n",
        "    theta, phiは極方向、赤道方向の等間隔tick\n",
        "    fはshapeが(theta, phi)の配列\n",
        "    \"\"\"\n",
        "    integrand = f * np.sin(theta)[:, np.newaxis]\n",
        "    return np.sum(integrand) * dtheta * dphi\n",
        "\n",
        "# 角度目盛を作る\n",
        "theta_tick = np.linspace(0, np.pi, 1001)\n",
        "phi_tick = np.linspace(-np.pi, np.pi, 2001)\n",
        "# 目盛の間隔\n",
        "dtheta = np.pi / 1000\n",
        "dphi= 2*np.pi / 2000\n",
        "# meshgridにする = 2次元の配列に展開される。\n",
        "phi, theta = np.meshgrid(phi_tick, theta_tick)\n",
        "\n",
        "# 先に球面調和関数を計算しておく。\n",
        "Y = dict()\n",
        "for l in range(3):\n",
        "    for m in range(-l, +l+1):\n",
        "        Y[l, m] = scipy.special.sph_harm(m, l, phi, theta, out=None)\n",
        "\n",
        "I = np.zeros([len(Y), len(Y)])\n",
        "for i, (q1, f1) in enumerate(Y.items()):\n",
        "    for j, (q2, f2) in enumerate(Y.items()):\n",
        "        # 複素関数なので、共役複素数をかけて積分する。\n",
        "        # 雑な数値積分なので、ぴったりとは合わない。\n",
        "        I[i,j] = spherical_integ(f1*f2.conj(), theta_tick, dtheta, dphi).round(2)\n",
        "        # 量子数と交差積分\n",
        "        # if I[i,j] > 0.5:\n",
        "        print(q1,q2,I[i,j])\n"
      ]
    },
    {
      "cell_type": "markdown",
      "metadata": {
        "id": "10wFJZjPJFNg"
      },
      "source": [
        "フーリエ変換と同じように、任意の球面関数を、基底の線形和に分解できるのかどうかも知りたい。\n",
        "\n",
        "例として、Y(1,0)を$\\theta$方向に45度傾けた関数を作ってみる。\n",
        "\n",
        "$(\\theta, \\phi)$で表される、半径1の球面上の点の点のユークリッド座標は$$(x,y,z)=(\\sin\\theta\\cos\\phi, \\sin\\theta\\sin\\phi, \\cos\\theta)$$\n",
        "ユークリッド座標から極座標への逆変換は?\n",
        "$$x^2+y^2=\\sin^2\\theta$$\n",
        "$$z^2=\\cos^2\\theta$$\n",
        "$$\\theta=\\arctan{\\sqrt{x^2+y^2}\\over z}$$\n",
        "$$\\phi=\\arctan{y\\over x}$$\n",
        "\n",
        "これを$y$軸に関して45度回転させると?\n",
        "$$(x',z')=(x\\cos 45-z\\sin 45, x\\sin 45+z\\cos 45)={1\\over \\sqrt 2}(x-z, x+z)$$\n",
        "回転後の球面上の点のユークリッド座標は\n",
        "$$(x',y',z')={1\\over \\sqrt 2}(\\sin\\theta\\cos\\phi-\\cos\\theta, \\sqrt{2} \\sin\\theta\\sin\\phi, \\sin\\theta\\cos\\phi+\\cos\\theta)$$\n",
        "\n"
      ]
    },
    {
      "cell_type": "code",
      "execution_count": null,
      "metadata": {
        "id": "mFe494vTj5t_"
      },
      "outputs": [],
      "source": [
        "import scipy.special\n",
        "import matplotlib.pyplot as plt\n",
        "\n",
        "def euclid_to_euler(x,y,z):\n",
        "    return np.arctan2((x**2+y**2)**0.5, z), np.arctan2(y, x)\n",
        "\n",
        "\n",
        "def euler_to_euclid(theta, phi):\n",
        "    x = np.sin(theta)*np.cos(phi)\n",
        "    y = np.sin(theta)*np.sin(phi)\n",
        "    z = np.cos(theta)\n",
        "    return np.array([x,y,z])\n",
        "\n",
        "\n",
        "def rotate_y(theta, phi, angle):\n",
        "    \"\"\"\n",
        "    極座標の点を、y軸回りに回転させ、回転後の点の極座標を返す。\n",
        "    numpy compliant.\n",
        "    \"\"\"\n",
        "    x,y,z = euler_to_euclid(theta, phi)\n",
        "\n",
        "    xp = ( x*np.cos(angle) - z*np.sin(angle) )\n",
        "    yp = y\n",
        "    zp = ( x*np.sin(angle) + z*np.cos(angle) )\n",
        "\n",
        "    return euclid_to_euler(xp,yp,zp)\n",
        "\n",
        "\n",
        "phi, ido = mollweide_grid(width=400)\n",
        "theta = np.pi/2 - ido\n",
        "\n",
        "thetap, phip = rotate_y(theta, phi, np.pi/4)\n",
        "\n",
        "f = scipy.special.sph_harm(0, 1, phip, thetap, out=None).real\n",
        "sc = plt.imshow(f, cmap='bwr')\n",
        "plt.colorbar(sc)\n",
        "plt.show()"
      ]
    },
    {
      "cell_type": "markdown",
      "metadata": {
        "id": "zBPSJXqrGhvU"
      },
      "source": [
        "この球面関数を、球面調和基底で変換する(線形結合の係数を求める)。\n"
      ]
    },
    {
      "cell_type": "code",
      "execution_count": null,
      "metadata": {
        "id": "hxotONDC9m7Z"
      },
      "outputs": [],
      "source": [
        "def spherical_integ(f, theta, dtheta, dphi):\n",
        "    \"\"\"\n",
        "    theta, phiは極方向、赤道方向の等間隔tick\n",
        "    fはshapeが(theta, phi)の配列\n",
        "    \"\"\"\n",
        "    integrand = f * np.sin(theta)[:, np.newaxis]\n",
        "    return np.sum(integrand) * dtheta * dphi\n",
        "\n",
        "# 角度目盛を作る\n",
        "theta_tick = np.linspace(0, np.pi, 1001)\n",
        "phi_tick = np.linspace(-np.pi, np.pi, 2001)\n",
        "# 目盛の間隔\n",
        "dtheta = np.pi / 1000\n",
        "dphi= 2*np.pi / 2000\n",
        "# meshgridにする\n",
        "phi, theta = np.meshgrid(phi_tick, theta_tick)\n",
        "\n",
        "thetap, phip = rotate_y(theta, phi, np.pi/4)\n",
        "\n",
        "f = scipy.special.sph_harm(0, 1, phip, thetap, out=None).real\n",
        "\n",
        "# 先に球面調和関数を計算しておく。\n",
        "Y = dict()\n",
        "for l in range(3):\n",
        "    for m in range(-l, +l+1):\n",
        "        Y[l, m] = scipy.special.sph_harm(m, l, phi, theta, out=None)\n",
        "\n",
        "I = np.zeros([len(Y), len(Y)])\n",
        "for i, (q1, f1) in enumerate(Y.items()):\n",
        "    # 複素関数なので、共役複素数をかけて積分する。\n",
        "    # 雑な数値積分なので、ぴったりとは合わない。\n",
        "    I = spherical_integ(f1*f.conj(), theta_tick, dtheta, dphi).round(3)\n",
        "    # 量子数と交差積分\n",
        "    # if I[i,j] > 0.5:\n",
        "    print(q1,I)\n"
      ]
    },
    {
      "cell_type": "markdown",
      "metadata": {
        "id": "QFW_nGqhA2gf"
      },
      "source": [
        "非0成分は$(l, m)=(1,\\{-1,0,1\\})$のみ。これらを線形結合して、プロットしてみよう。\n"
      ]
    },
    {
      "cell_type": "code",
      "execution_count": null,
      "metadata": {
        "id": "aSKsFhgP_4tY"
      },
      "outputs": [],
      "source": [
        "import scipy.special\n",
        "import matplotlib.pyplot as plt\n",
        "\n",
        "keido, ido = mollweide_grid(width=100)\n",
        "theta = np.pi/2 - ido\n",
        "\n",
        "f = scipy.special.sph_harm(-1, 1, keido, theta, out=None)/2\n",
        "f += scipy.special.sph_harm(0, 1, keido, theta, out=None)/2**0.5\n",
        "f += scipy.special.sph_harm(+1, 1, keido, theta, out=None)/(-2)\n",
        "\n",
        "sc = plt.imshow(f.real, cmap='bwr')\n",
        "plt.colorbar(sc)\n",
        "plt.show()"
      ]
    },
    {
      "cell_type": "markdown",
      "metadata": {
        "id": "rRv_4C5GBdml"
      },
      "source": [
        "ナイス! これでわかったのは、\n",
        "* 球面調和関数は確かに基底を張っている。任意の球面関数は、球面調和関数の和で表せそうだ。\n",
        "* ここで作った球面関数は、$l=1$の球面調和関数の実数部分を45度回したものだった。これは、$l=1$の球面調和関数の線形結合であらわせ、より高次の球面調和関数は必要としなかった。この点もフーリエ変換によく似ている。\n",
        "* 線形結合の係数から、元の関数が、球面調和関数のどれをどちらむきに傾けたものかを推定できるはずだ。(これ重要)\n",
        "* 実数の球面関数を展開した場合、重みも実数になる。"
      ]
    },
    {
      "cell_type": "markdown",
      "metadata": {
        "id": "XrWB-3dtCaBE"
      },
      "source": [
        "## 結合配向秩序\n",
        "\n",
        "球面調和関数が一次元における正弦関数に似ていることがだいたいわかったので、次に結合配向秩序を検討する。\n",
        "\n",
        "結晶は、原子がある秩序に従って整列したものである。結晶のなかでは、隣接する原子は結合していて、その結合ベクトルの方向は特定の方向に向いている。例えば、体心立方格子であれば、4方向(逆向きを含めれば8方向)の結合ベクトルがあり、互いに70.5度の角をなしている。この結合ベクトルの向きを球面上に射影すると、8つの点が生じる。(余談だが、Gyroid構造に出現するねじれ角も70.5度。幾何学的に関連しているはず。)\n",
        "\n",
        "熱揺らぎがあると、結合ベクトルの方向もゆらぎ、球面上の射影は8個の点から8個の分布となる。この球面関数を球面調和関数展開すれば、配向に関する特徴量(各基底の重み)を得ることができる。\n",
        "\n",
        "結晶は、常に空間座標(シミュレーションセルの辺方向)に沿った方向に生じるとは限らない。結晶が傾いていると、特徴量も変化するので、基底の重みだけを見比べると、別の構造に見えてしまう。\n",
        "\n",
        "そこで、結晶が傾いていても、同じ数値が得られるように、うまく基底の重みを組みあわせる。これが結合配向秩序指標である。ちょうど、フーリエ変換において、位相のずれを無視するために、パワースペクトルに変換することに対応する。(パワースペクトルは各振動数でのsin成分とcos成分の二乗和で計算される。)\n",
        "\n",
        "現実には、系全体が単結晶になることは稀であり、結合配向秩序も場所ごとに別々に計算することが多い。(場所ごとに計算する場合は、部分空間を切りとり、その中にある結合の方向のみで結合配向秩序を計算する)\n",
        "\n",
        "多結晶で、いろんな向きの結晶粒が生じていたとしても、それらが同じ結晶構造をもっていれば、場所ごとの結合配向秩序の値は同一となる。\n",
        "\n"
      ]
    },
    {
      "cell_type": "markdown",
      "metadata": {
        "id": "UdSokqet0xlz"
      },
      "source": [
        "まず、方向が$(\\theta, \\phi)$ボンド1本に対して、次の量を計算する。\n",
        "$$q=Y_l^m(\\theta, \\phi)$$\n",
        "これは、実際には以下の畳み込み積分と同じ意味なので、球面上のデルタ関数を球面調和関数展開しているとみなせる。\n",
        "$$q=\\iint\\delta(\\theta-\\theta', \\phi-\\phi')Y_l^m(\\theta', \\phi')\\sin\\theta'\\mathrm d\\theta\\mathrm d\\phi$$\n",
        "結合は複数あるが、独立なので、単純に足しあわせればいい。\n",
        "$$q_{lm}(i)={1\\over N}\\sum_{j\\ne i}^NY_l^m\\left(\\theta_{ij}, \\phi_{ij}\\right)$$\n",
        "これが、ある原子$i$と、周囲の原子$j$の間の結合の球面調和関数展開であり、\n",
        "異なる$(l,m)$に対して異なる「重み」(スカラ量)が得られる。\n",
        "\n",
        "結合配向秩序指数$q_l(i)$はこれを用いて次のように定義される。\n",
        "$$q_l(i)=\\sqrt{{4\\pi\\over 2l+1}\\sum_{m=-l}^{l}\\left|q_{lm}(i)\\right|^2}$$\n",
        "これは、球面調和関数展開した係数の二乗和をとり、規格化したものにすぎない。\n",
        "\n",
        "いくつかのよくある局所構造に対して、結合配向秩序を計算しておこう。"
      ]
    },
    {
      "cell_type": "code",
      "execution_count": null,
      "metadata": {
        "id": "yc4ATvOu5gT4"
      },
      "outputs": [],
      "source": [
        "import numpy as np\n",
        "import scipy\n",
        "import matplotlib.pyplot as plt\n",
        "\n",
        "def euclid_to_euler(x,y,z):\n",
        "    return np.arctan2((x**2+y**2)**0.5, z), np.arctan2(y, x)\n",
        "\n",
        "\n",
        "def qlm(l,m,x,y,z):\n",
        "    \"\"\"\n",
        "    球面ベクトルの球面調和関数展開\n",
        "    \"\"\"\n",
        "    theta, phi = euclid_to_euler(x,y,z)\n",
        "    # print(theta,phi)\n",
        "    return scipy.special.sph_harm(m, l, phi, theta, out=None).mean()\n",
        "\n",
        "\n",
        "def boo(l, x,y,z):\n",
        "    \"\"\"\n",
        "    結合配向秩序指標\n",
        "    \"\"\"\n",
        "    s = 0\n",
        "    for m in range(-l, l+1):\n",
        "        q = qlm(l,m, x,y,z)\n",
        "        s += q * q.conj()\n",
        "    return (s*4*np.pi/(2*l+1))**0.5\n",
        "\n",
        "# 単純立方格子。隣接ベクトルは6本。\n",
        "scl = np.array([[-1.0, 0.0, 0.0],\n",
        "                 [0.0, -1.0, 0.0],\n",
        "                 [0.0, 0.0, -1.0],\n",
        "                 [1.0, 0.0, 0.0],\n",
        "                 [0.0, 1.0, 0.0],\n",
        "                 [0.0, 0.0, 1.0]\n",
        "                 ])\n",
        "# 体心立方格子\n",
        "bcc = np.array([[-1,-1,-1],\n",
        "                [-1,-1,+1],\n",
        "                [-1,+1,-1],\n",
        "                [-1,+1,+1],\n",
        "                [+1,-1,-1],\n",
        "                [+1,-1,+1],\n",
        "                [+1,+1,-1],\n",
        "                [+1,+1,+1],\n",
        "                # Steinhardtとあわせるために、第二隣接までとる。\n",
        "                [-2.0, 0.0, 0.0],\n",
        "                 [0.0, -2.0, 0.0],\n",
        "                 [0.0, 0.0, -2.0],\n",
        "                 [2.0, 0.0, 0.0],\n",
        "                 [0.0, 2.0, 0.0],\n",
        "                 [0.0, 0.0, 2.0]\n",
        "                ]) / 3**0.5\n",
        "# ダイヤモンド格子\n",
        "dia = np.array([[-1,-1,-1],\n",
        "                [+1,-1,-1],\n",
        "                [+1,-1,+1],\n",
        "                [+1,+1,-1]]) / 3**0.5\n",
        "# 面心立方格子\n",
        "fcc = np.array([[-1,-1,0],\n",
        "                [-1,+1,0],\n",
        "                [+1,-1,0],\n",
        "                [+1,+1,0],\n",
        "                [-1,0,-1],\n",
        "                [-1,0,+1],\n",
        "                [+1,0,-1],\n",
        "                [+1,0,+1],\n",
        "                [0,-1,-1],\n",
        "                [0,-1,+1],\n",
        "                [0,+1,-1],\n",
        "                [0,+1,+1]]) / 2**0.5\n",
        "\n",
        "\n",
        "samples = {\"BCC\": bcc, \"SCL\": scl, \"Diamond\": dia, \"FCC\": fcc}\n",
        "for label, vectors in samples.items():\n",
        "    x,y,z = vectors.T\n",
        "\n",
        "    Y = []\n",
        "    for l in range(13):\n",
        "        Y.append(boo(l,x,y,z))\n",
        "\n",
        "    Y = np.array(Y)\n",
        "\n",
        "    plt.plot(Y.real, label=label)\n",
        "\n",
        "\n",
        "plt.legend()\n",
        "\n"
      ]
    },
    {
      "cell_type": "markdown",
      "metadata": {
        "id": "Z77gQcIyBmJj"
      },
      "source": [
        "(2023-10-03 [Steinhardt論文](https://journals.aps.org/prb/abstract/10.1103/PhysRevB.28.784)でチェック済み)\n",
        "\n",
        "よく使われる$q_6$は、どの結晶構造でも大きな値になるので、秩序化しているかどうかの目安にはよさそうだ。\n",
        "\n",
        "結晶構造を見わけたい場合は、複数の特徴量をあわせるのが良い。BCCとダイヤモンドは、実質的には識別不可能に思える。(反対向きベクトルも含めると全く同じ方向にベクトルが向いている)\n"
      ]
    },
    {
      "cell_type": "markdown",
      "metadata": {
        "id": "T9aDUIRvCrZg"
      },
      "source": [
        "座標系を回転させても$q_l$の値が変化しないことを確認しておく。"
      ]
    },
    {
      "cell_type": "code",
      "execution_count": null,
      "metadata": {
        "id": "ZU9F1rk4C8vb"
      },
      "outputs": [],
      "source": [
        "# 回転行列を自分で書くのが面倒なので、scipyを流用する。\n",
        "from scipy.spatial.transform import Rotation\n",
        "\n",
        "# ランダム回転行列\n",
        "R = Rotation.from_rotvec(np.random.random(3)).as_matrix()\n",
        "\n",
        "samples = {\"BCC\": bcc, \"SCL\": scl, \"Diamond\": dia, \"FCC\": fcc}\n",
        "for label, vectors in samples.items():\n",
        "    x,y,z = (vectors@R).T\n",
        "\n",
        "    Y = []\n",
        "    for l in range(13):\n",
        "        Y.append(boo(l,x,y,z))\n",
        "\n",
        "    Y = np.array(Y)\n",
        "\n",
        "    plt.plot(Y.real, label=label)\n",
        "\n",
        "plt.legend()\n"
      ]
    },
    {
      "cell_type": "markdown",
      "metadata": {
        "id": "PZCWnYyAEdf1"
      },
      "source": [
        "問題ない!"
      ]
    },
    {
      "cell_type": "markdown",
      "metadata": {
        "id": "Glz5G4gbSXzO"
      },
      "source": [
        "## 結合配向秩序の先へ\n",
        "\n",
        "* 結合配向秩序が傾きの情報を捨てていることを再検討する。\n",
        "  * 結合配向秩序ではなく、あえて基底の重みを直接調べることで、結晶粒がどの方向に傾いているかを読みとれるはずだ。位相に注目するのである。\n",
        "    * 球面調和関数に回転行列をかけたものは何になるのか。\n",
        "\n",
        "  * 例えば氷であれば、隣接分子との4本の結合だけで結合配向秩序を計算すると、いつもだいたい同じような値になる。これは短距離秩序と呼ばれる。氷の結晶構造の違いは、もっと遠方の結合のつながり方で見分けなければならない。これは中距離秩序と言われている。第二隣接まで含めた、中距離空間をきりとって結合配向秩序を計算するのが安直な方法だが、それでいいのか?それよりも、中心分子と第一隣接で計算される球面関数と、第一隣接分子周囲の球面関数の間の「傾き」を捉えられないか?\n",
        "* 一般には、メタンや水のような、四面体型やBCC型を好む構造にフィットするのは、$Y_{3m}$のはず。なぜ$Y_{6m}$系の$q_6$がもてはやされるのか。\n",
        "  * $(Y_{3,1},Y_{3,2},Y_{3,3})$は四面体型分子の傾きを捉える良い指標ではないか?\n",
        "* ダイヤモンド構造とBCCを区別する方法はないのか?\n",
        "  * 第一隣接との結合のQ、第一と第二隣接の間の結合のQのほかに、前者と後者の交差項を考える?"
      ]
    }
  ],
  "metadata": {
    "colab": {
      "include_colab_link": true,
      "provenance": []
    },
    "kernelspec": {
      "display_name": "Python 3",
      "name": "python3"
    },
    "language_info": {
      "codemirror_mode": {
        "name": "ipython",
        "version": 3
      },
      "file_extension": ".py",
      "mimetype": "text/x-python",
      "name": "python",
      "nbconvert_exporter": "python",
      "pygments_lexer": "ipython3",
      "version": "3.11.4"
    }
  },
  "nbformat": 4,
  "nbformat_minor": 0
}
