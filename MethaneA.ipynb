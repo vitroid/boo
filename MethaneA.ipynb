{
  "cells": [
    {
      "cell_type": "markdown",
      "metadata": {},
      "source": [
        "## CIFファイルの情報から原子座標を生成する"
      ]
    },
    {
      "cell_type": "code",
      "execution_count": 1,
      "metadata": {
        "id": "aYxgAAvsQOGT"
      },
      "outputs": [
        {
          "data": {
            "text/plain": [
              "array([[0.8508    , 0.        , 0.        ],\n",
              "       [0.01009726, 0.85074008, 0.        ],\n",
              "       [0.01009726, 0.00997813, 0.85068156]])"
            ]
          },
          "execution_count": 1,
          "metadata": {},
          "output_type": "execute_result"
        }
      ],
      "source": [
        "from genice2.cell import cellvectors\n",
        "from genice2 import CIF\n",
        "\n",
        "a = 8.508 / 10.0  # nm\n",
        "A = 89.32\n",
        "\n",
        "# cellvectors関数は単位胞の幾何形状情報を行列にする。\n",
        "cell = cellvectors(a, a, a, A, A, A)\n",
        "cell"
      ]
    },
    {
      "cell_type": "code",
      "execution_count": 3,
      "metadata": {},
      "outputs": [
        {
          "data": {
            "text/plain": [
              "{'C0': array([0.575, 0.575, 0.575]),\n",
              " 'C1': array([0.953, 0.953, 0.953]),\n",
              " 'C2': array([0.186, 0.186, 0.186]),\n",
              " 'C3': array([0.833, 0.291, 0.701]),\n",
              " 'C4': array([0.455, 0.318, 0.839]),\n",
              " 'C5': array([0.72 , 0.626, 0.953]),\n",
              " 'C6': array([0.519, 0.189, 0.435]),\n",
              " 'C7': array([0.938, 0.072, 0.42 ]),\n",
              " 'C8': array([0.204, 0.085, 0.703])}"
            ]
          },
          "execution_count": 3,
          "metadata": {},
          "output_type": "execute_result"
        }
      ],
      "source": [
        "import numpy as np\n",
        "\n",
        "atoms = \"\"\"   C1         1.0     0.575000      0.575000      0.575000     Biso  1.000000 C\n",
        "   C2         1.0     0.953000      0.953000      0.953000     Biso  1.000000 C\n",
        "   C3         1.0     0.186000      0.186000      0.186000     Biso  1.000000 C\n",
        "   C4         1.0     0.833000      0.291000      0.701000     Biso  1.000000 C\n",
        "   C5         1.0     0.455000      0.318000      0.839000     Biso  1.000000 C\n",
        "   C6         1.0     0.720000      0.626000      0.953000     Biso  1.000000 C\n",
        "   C7         1.0     0.519000      0.189000      0.435000     Biso  1.000000 C\n",
        "   C8         1.0     0.938000      0.072000      0.420000     Biso  1.000000 C\n",
        "   C9         1.0     0.204000      0.085000      0.703000     Biso  1.00\n",
        "\"\"\".splitlines()\n",
        "\n",
        "# pick up 3 columns\n",
        "atoms = [line.split()[2:5] for line in atoms]\n",
        "\n",
        "# and make them floats\n",
        "atoms = np.array(atoms).astype(float)\n",
        "\n",
        "# make them a dict\n",
        "atomd = { f\"C{i}\": x for i, x in enumerate(atoms) }\n",
        "atomd\n"
      ]
    },
    {
      "cell_type": "code",
      "execution_count": 4,
      "metadata": {},
      "outputs": [
        {
          "data": {
            "text/plain": [
              "[('C0', array([0.575, 0.575, 0.575])),\n",
              " ('C1', array([0.953, 0.953, 0.953])),\n",
              " ('C2', array([0.186, 0.186, 0.186])),\n",
              " ('C3', array([0.833, 0.291, 0.701])),\n",
              " ('C4', array([0.455, 0.318, 0.839])),\n",
              " ('C5', array([0.72 , 0.626, 0.953])),\n",
              " ('C6', array([0.519, 0.189, 0.435])),\n",
              " ('C7', array([0.938, 0.072, 0.42 ])),\n",
              " ('C8', array([0.204, 0.085, 0.703])),\n",
              " ('C3', array([0.701, 0.833, 0.291])),\n",
              " ('C4', array([0.839, 0.455, 0.318])),\n",
              " ('C5', array([0.953, 0.72 , 0.626])),\n",
              " ('C6', array([0.435, 0.519, 0.189])),\n",
              " ('C7', array([0.42 , 0.938, 0.072])),\n",
              " ('C8', array([0.703, 0.204, 0.085])),\n",
              " ('C3', array([0.291, 0.701, 0.833])),\n",
              " ('C4', array([0.318, 0.839, 0.455])),\n",
              " ('C5', array([0.626, 0.953, 0.72 ])),\n",
              " ('C6', array([0.189, 0.435, 0.519])),\n",
              " ('C7', array([0.072, 0.42 , 0.938])),\n",
              " ('C8', array([0.085, 0.703, 0.204]))]"
            ]
          },
          "execution_count": 4,
          "metadata": {},
          "output_type": "execute_result"
        }
      ],
      "source": [
        "# space group R 3 の対称操作\n",
        "symops = \"\"\"\n",
        "   x, y, z\n",
        "   z, x, y\n",
        "   y, z, x\n",
        "\"\"\"\n",
        "\n",
        "# 対称操作表に従い、原子位置を複製する。すべての原子位置がこれで求められる。\n",
        "atoms = CIF.fullatoms(atomd, sops=CIF.symmetry_operators(symops))\n",
        "atoms"
      ]
    },
    {
      "cell_type": "code",
      "execution_count": 5,
      "metadata": {},
      "outputs": [
        {
          "data": {
            "text/plain": [
              "array([[0.575, 0.575, 0.575],\n",
              "       [0.953, 0.953, 0.953],\n",
              "       [0.186, 0.186, 0.186],\n",
              "       [0.833, 0.291, 0.701],\n",
              "       [0.455, 0.318, 0.839],\n",
              "       [0.72 , 0.626, 0.953],\n",
              "       [0.519, 0.189, 0.435],\n",
              "       [0.938, 0.072, 0.42 ],\n",
              "       [0.204, 0.085, 0.703],\n",
              "       [0.701, 0.833, 0.291],\n",
              "       [0.839, 0.455, 0.318],\n",
              "       [0.953, 0.72 , 0.626],\n",
              "       [0.435, 0.519, 0.189],\n",
              "       [0.42 , 0.938, 0.072],\n",
              "       [0.703, 0.204, 0.085],\n",
              "       [0.291, 0.701, 0.833],\n",
              "       [0.318, 0.839, 0.455],\n",
              "       [0.626, 0.953, 0.72 ],\n",
              "       [0.189, 0.435, 0.519],\n",
              "       [0.072, 0.42 , 0.938],\n",
              "       [0.085, 0.703, 0.204]])"
            ]
          },
          "execution_count": 5,
          "metadata": {},
          "output_type": "execute_result"
        }
      ],
      "source": [
        "# 扱いにくいので、炭素の座標だけを抽出する。\n",
        "carbons = np.array([atom[1] for atom in atoms if atom[0][0] == \"C\"])\n",
        "carbons"
      ]
    },
    {
      "cell_type": "markdown",
      "metadata": {},
      "source": [
        "相対位置のヒストグラム(動径分布関数)"
      ]
    },
    {
      "cell_type": "code",
      "execution_count": 6,
      "metadata": {},
      "outputs": [
        {
          "data": {
            "image/png": "[encoded data removed]",
            "text/plain": [
              "<Figure size 640x480 with 1 Axes>"
            ]
          },
          "metadata": {},
          "output_type": "display_data"
        }
      ],
      "source": [
        "import matplotlib.pyplot as plt\n",
        "distances = []\n",
        "for i, ci in enumerate(carbons):\n",
        "    vectors = []\n",
        "    for cj in carbons:\n",
        "        d = ci - cj\n",
        "        # PBC\n",
        "        d -= np.floor(d + 0.5)\n",
        "        # fractional to absolute\n",
        "        d = d @ cell\n",
        "        distances.append(np.linalg.norm(d))\n",
        "\n",
        "H = plt.hist(distances, bins=100)"
      ]
    },
    {
      "cell_type": "markdown",
      "metadata": {},
      "source": [
        "## Methane AのBOOを計算する"
      ]
    },
    {
      "cell_type": "code",
      "execution_count": 10,
      "metadata": {},
      "outputs": [
        {
          "name": "stdout",
          "output_type": "stream",
          "text": [
            "0.3278778629487718\n",
            "12\n",
            "boo Q_4 (0.052075119792321+0j)\n",
            "boo Q_6 (0.6560926934672583+0j)\n",
            "boo Q_8 (0.08534180303113023+0j)\n",
            "boo Q_10 (0.3661634414200464+0j)\n",
            "boo Q_12 (0.5649766662840319+0j)\n",
            "0.31997173451417105\n",
            "13\n",
            "boo Q_4 (0.1190761106574624+0j)\n",
            "boo Q_6 (0.4405074956196337+0j)\n",
            "boo Q_8 (0.2791722644387966+0j)\n",
            "boo Q_10 (0.19656099452687184+0j)\n",
            "boo Q_12 (0.34815215210861755+0j)\n",
            "0.3042920896517887\n",
            "13\n",
            "boo Q_4 (0.09523456040630233+0j)\n",
            "boo Q_6 (0.42572957058005567+0j)\n",
            "boo Q_8 (0.2946639209095008+0j)\n",
            "boo Q_10 (0.19088303079375807+0j)\n",
            "boo Q_12 (0.35805047848361504+0j)\n",
            "0.3099680002675364\n",
            "13\n",
            "boo Q_4 (0.057653653020221664+0j)\n",
            "boo Q_6 (0.46071163192689285+0j)\n",
            "boo Q_8 (0.11050220016776373+0j)\n",
            "boo Q_10 (0.2393878275708224+0j)\n",
            "boo Q_12 (0.30763292002131604+0j)\n",
            "0.31275131296610126\n",
            "13\n",
            "boo Q_4 (0.05905851838986556+0j)\n",
            "boo Q_6 (0.5103578734452086+0j)\n",
            "boo Q_8 (0.17348652077260818+0j)\n",
            "boo Q_10 (0.267624821234475+0j)\n",
            "boo Q_12 (0.34441208777623283+0j)\n",
            "0.3260884207596315\n",
            "14\n",
            "boo Q_4 (0.06659194086310229+0j)\n",
            "boo Q_6 (0.38207295113006134+0j)\n",
            "boo Q_8 (0.17556290750478856+0j)\n",
            "boo Q_10 (0.12974181078371436+0j)\n",
            "boo Q_12 (0.3081344029999149+0j)\n",
            "0.32608842075963146\n",
            "14\n",
            "boo Q_4 (0.05524338681805753+0j)\n",
            "boo Q_6 (0.388227384489413+0j)\n",
            "boo Q_8 (0.16340602921734174+0j)\n",
            "boo Q_10 (0.17243971009833034+0j)\n",
            "boo Q_12 (0.29377287261439505+0j)\n",
            "0.3042920896517887\n",
            "13\n",
            "boo Q_4 (0.09126987370206337+0j)\n",
            "boo Q_6 (0.43930675885522735+0j)\n",
            "boo Q_8 (0.2820830737298076+0j)\n",
            "boo Q_10 (0.19286012455861315+0j)\n",
            "boo Q_12 (0.276010683560033+0j)\n",
            "0.31275131296610126\n",
            "13\n",
            "boo Q_4 (0.06679335202567195+0j)\n",
            "boo Q_6 (0.4652585054241217+0j)\n",
            "boo Q_8 (0.28654660095661816+0j)\n",
            "boo Q_10 (0.23542689621265173+0j)\n",
            "boo Q_12 (0.2981364502225793+0j)\n",
            "0.3099680002675364\n",
            "13\n",
            "boo Q_4 (0.05765365302022161+0j)\n",
            "boo Q_6 (0.46071163192689285+0j)\n",
            "boo Q_8 (0.11050220016776378+0j)\n",
            "boo Q_10 (0.23938782757082228+0j)\n",
            "boo Q_12 (0.30763292002131587+0j)\n",
            "0.31275131296610126\n",
            "13\n",
            "boo Q_4 (0.059058518389865484+0j)\n",
            "boo Q_6 (0.5103578734452086+0j)\n",
            "boo Q_8 (0.1734865207726082+0j)\n",
            "boo Q_10 (0.267624821234475+0j)\n",
            "boo Q_12 (0.34441208777623283+0j)\n",
            "0.32608842075963146\n",
            "14\n",
            "boo Q_4 (0.06659194086310226+0j)\n",
            "boo Q_6 (0.38207295113006134+0j)\n",
            "boo Q_8 (0.1755629075047886+0j)\n",
            "boo Q_10 (0.1297418107837144+0j)\n",
            "boo Q_12 (0.3081344029999149+0j)\n",
            "0.3260884207596315\n",
            "14\n",
            "boo Q_4 (0.05524338681805753+0j)\n",
            "boo Q_6 (0.388227384489413+0j)\n",
            "boo Q_8 (0.16340602921734196+0j)\n",
            "boo Q_10 (0.17243971009833015+0j)\n",
            "boo Q_12 (0.2937728726143952+0j)\n",
            "0.3042920896517887\n",
            "13\n",
            "boo Q_4 (0.09126987370206324+0j)\n",
            "boo Q_6 (0.43930675885522746+0j)\n",
            "boo Q_8 (0.2820830737298078+0j)\n",
            "boo Q_10 (0.1928601245586131+0j)\n",
            "boo Q_12 (0.27601068356003317+0j)\n",
            "0.31275131296610126\n",
            "13\n",
            "boo Q_4 (0.06679335202567192+0j)\n",
            "boo Q_6 (0.46525850542412184+0j)\n",
            "boo Q_8 (0.286546600956618+0j)\n",
            "boo Q_10 (0.23542689621265173+0j)\n",
            "boo Q_12 (0.29813645022257934+0j)\n",
            "0.3099680002675364\n",
            "13\n",
            "boo Q_4 (0.057653653020221664+0j)\n",
            "boo Q_6 (0.4607116319268929+0j)\n",
            "boo Q_8 (0.11050220016776373+0j)\n",
            "boo Q_10 (0.2393878275708224+0j)\n",
            "boo Q_12 (0.30763292002131587+0j)\n",
            "0.31275131296610126\n",
            "13\n",
            "boo Q_4 (0.05905851838986556+0j)\n",
            "boo Q_6 (0.5103578734452086+0j)\n",
            "boo Q_8 (0.17348652077260804+0j)\n",
            "boo Q_10 (0.2676248212344751+0j)\n",
            "boo Q_12 (0.34441208777623267+0j)\n",
            "0.32608842075963146\n",
            "14\n",
            "boo Q_4 (0.06659194086310229+0j)\n",
            "boo Q_6 (0.3820729511300613+0j)\n",
            "boo Q_8 (0.17556290750478865+0j)\n",
            "boo Q_10 (0.12974181078371436+0j)\n",
            "boo Q_12 (0.3081344029999149+0j)\n",
            "0.32608842075963146\n",
            "14\n",
            "boo Q_4 (0.055243386818057655+0j)\n",
            "boo Q_6 (0.388227384489413+0j)\n",
            "boo Q_8 (0.16340602921734185+0j)\n",
            "boo Q_10 (0.1724397100983303+0j)\n",
            "boo Q_12 (0.2937728726143952+0j)\n",
            "0.3042920896517887\n",
            "13\n",
            "boo Q_4 (0.09126987370206316+0j)\n",
            "boo Q_6 (0.4393067588552274+0j)\n",
            "boo Q_8 (0.28208307372980757+0j)\n",
            "boo Q_10 (0.19286012455861315+0j)\n",
            "boo Q_12 (0.2760106835600332+0j)\n",
            "0.31275131296610126\n",
            "13\n",
            "boo Q_4 (0.0667933520256719+0j)\n",
            "boo Q_6 (0.46525850542412184+0j)\n",
            "boo Q_8 (0.2865466009566181+0j)\n",
            "boo Q_10 (0.23542689621265173+0j)\n",
            "boo Q_12 (0.2981364502225794+0j)\n"
          ]
        },
        {
          "name": "stderr",
          "output_type": "stream",
          "text": [
            "/var/folders/g2/t_qwkbf48xj4860059bm17mh0000gs/T/ipykernel_22068/162812985.py:30: ComplexWarning: Casting complex values to real discards the imaginary part\n",
            "  boos[i, k] = booo\n"
          ]
        }
      ],
      "source": [
        "import boo\n",
        "\n",
        "neighbors = dict()\n",
        "\n",
        "numAtoms = carbons.shape[0]\n",
        "\n",
        "boos = np.zeros([carbons.shape[0], 5])\n",
        "rc = 0.45\n",
        "\n",
        "for i, ci in enumerate(carbons):\n",
        "    vectors = []\n",
        "    for cj in carbons:\n",
        "        d = ci - cj\n",
        "        # PBC\n",
        "        d -= np.floor(d + 0.5)\n",
        "        # fractional to absolute\n",
        "        d = d @ cell\n",
        "        if 0 < d @ d < rc**2:\n",
        "            vectors.append(d)\n",
        "\n",
        "    vectors = np.array(vectors)\n",
        "    print(np.min(np.linalg.norm(vectors, axis=1)))\n",
        "    print(len(vectors))\n",
        "    for k, l in enumerate([4, 6, 8, 10, 12]):\n",
        "        X = vectors[:, 0]\n",
        "        Y = vectors[:, 1]\n",
        "        Z = vectors[:, 2]\n",
        "        booo = boo.boo(l, X, Y, Z)\n",
        "        print(f\"boo Q_{l} {booo}\")\n",
        "        boos[i, k] = booo\n"
      ]
    },
    {
      "cell_type": "code",
      "execution_count": 11,
      "metadata": {},
      "outputs": [
        {
          "data": {
            "text/html": [
              "<div>\n",
              "<style scoped>\n",
              "    .dataframe tbody tr th:only-of-type {\n",
              "        vertical-align: middle;\n",
              "    }\n",
              "\n",
              "    .dataframe tbody tr th {\n",
              "        vertical-align: top;\n",
              "    }\n",
              "\n",
              "    .dataframe thead th {\n",
              "        text-align: right;\n",
              "    }\n",
              "</style>\n",
              "<table border=\"1\" class=\"dataframe\">\n",
              "  <thead>\n",
              "    <tr style=\"text-align: right;\">\n",
              "      <th></th>\n",
              "      <th>q_4</th>\n",
              "      <th>q_6</th>\n",
              "      <th>q_8</th>\n",
              "      <th>q_10</th>\n",
              "      <th>q_12</th>\n",
              "    </tr>\n",
              "  </thead>\n",
              "  <tbody>\n",
              "    <tr>\n",
              "      <th>0</th>\n",
              "      <td>0.052075</td>\n",
              "      <td>0.656093</td>\n",
              "      <td>0.085342</td>\n",
              "      <td>0.366163</td>\n",
              "      <td>0.564977</td>\n",
              "    </tr>\n",
              "    <tr>\n",
              "      <th>1</th>\n",
              "      <td>0.119076</td>\n",
              "      <td>0.440507</td>\n",
              "      <td>0.279172</td>\n",
              "      <td>0.196561</td>\n",
              "      <td>0.348152</td>\n",
              "    </tr>\n",
              "    <tr>\n",
              "      <th>2</th>\n",
              "      <td>0.095235</td>\n",
              "      <td>0.425730</td>\n",
              "      <td>0.294664</td>\n",
              "      <td>0.190883</td>\n",
              "      <td>0.358050</td>\n",
              "    </tr>\n",
              "    <tr>\n",
              "      <th>3</th>\n",
              "      <td>0.057654</td>\n",
              "      <td>0.460712</td>\n",
              "      <td>0.110502</td>\n",
              "      <td>0.239388</td>\n",
              "      <td>0.307633</td>\n",
              "    </tr>\n",
              "    <tr>\n",
              "      <th>4</th>\n",
              "      <td>0.059059</td>\n",
              "      <td>0.510358</td>\n",
              "      <td>0.173487</td>\n",
              "      <td>0.267625</td>\n",
              "      <td>0.344412</td>\n",
              "    </tr>\n",
              "    <tr>\n",
              "      <th>5</th>\n",
              "      <td>0.066592</td>\n",
              "      <td>0.382073</td>\n",
              "      <td>0.175563</td>\n",
              "      <td>0.129742</td>\n",
              "      <td>0.308134</td>\n",
              "    </tr>\n",
              "    <tr>\n",
              "      <th>6</th>\n",
              "      <td>0.055243</td>\n",
              "      <td>0.388227</td>\n",
              "      <td>0.163406</td>\n",
              "      <td>0.172440</td>\n",
              "      <td>0.293773</td>\n",
              "    </tr>\n",
              "    <tr>\n",
              "      <th>7</th>\n",
              "      <td>0.091270</td>\n",
              "      <td>0.439307</td>\n",
              "      <td>0.282083</td>\n",
              "      <td>0.192860</td>\n",
              "      <td>0.276011</td>\n",
              "    </tr>\n",
              "    <tr>\n",
              "      <th>8</th>\n",
              "      <td>0.066793</td>\n",
              "      <td>0.465259</td>\n",
              "      <td>0.286547</td>\n",
              "      <td>0.235427</td>\n",
              "      <td>0.298136</td>\n",
              "    </tr>\n",
              "    <tr>\n",
              "      <th>9</th>\n",
              "      <td>0.057654</td>\n",
              "      <td>0.460712</td>\n",
              "      <td>0.110502</td>\n",
              "      <td>0.239388</td>\n",
              "      <td>0.307633</td>\n",
              "    </tr>\n",
              "    <tr>\n",
              "      <th>10</th>\n",
              "      <td>0.059059</td>\n",
              "      <td>0.510358</td>\n",
              "      <td>0.173487</td>\n",
              "      <td>0.267625</td>\n",
              "      <td>0.344412</td>\n",
              "    </tr>\n",
              "    <tr>\n",
              "      <th>11</th>\n",
              "      <td>0.066592</td>\n",
              "      <td>0.382073</td>\n",
              "      <td>0.175563</td>\n",
              "      <td>0.129742</td>\n",
              "      <td>0.308134</td>\n",
              "    </tr>\n",
              "    <tr>\n",
              "      <th>12</th>\n",
              "      <td>0.055243</td>\n",
              "      <td>0.388227</td>\n",
              "      <td>0.163406</td>\n",
              "      <td>0.172440</td>\n",
              "      <td>0.293773</td>\n",
              "    </tr>\n",
              "    <tr>\n",
              "      <th>13</th>\n",
              "      <td>0.091270</td>\n",
              "      <td>0.439307</td>\n",
              "      <td>0.282083</td>\n",
              "      <td>0.192860</td>\n",
              "      <td>0.276011</td>\n",
              "    </tr>\n",
              "    <tr>\n",
              "      <th>14</th>\n",
              "      <td>0.066793</td>\n",
              "      <td>0.465259</td>\n",
              "      <td>0.286547</td>\n",
              "      <td>0.235427</td>\n",
              "      <td>0.298136</td>\n",
              "    </tr>\n",
              "    <tr>\n",
              "      <th>15</th>\n",
              "      <td>0.057654</td>\n",
              "      <td>0.460712</td>\n",
              "      <td>0.110502</td>\n",
              "      <td>0.239388</td>\n",
              "      <td>0.307633</td>\n",
              "    </tr>\n",
              "    <tr>\n",
              "      <th>16</th>\n",
              "      <td>0.059059</td>\n",
              "      <td>0.510358</td>\n",
              "      <td>0.173487</td>\n",
              "      <td>0.267625</td>\n",
              "      <td>0.344412</td>\n",
              "    </tr>\n",
              "    <tr>\n",
              "      <th>17</th>\n",
              "      <td>0.066592</td>\n",
              "      <td>0.382073</td>\n",
              "      <td>0.175563</td>\n",
              "      <td>0.129742</td>\n",
              "      <td>0.308134</td>\n",
              "    </tr>\n",
              "    <tr>\n",
              "      <th>18</th>\n",
              "      <td>0.055243</td>\n",
              "      <td>0.388227</td>\n",
              "      <td>0.163406</td>\n",
              "      <td>0.172440</td>\n",
              "      <td>0.293773</td>\n",
              "    </tr>\n",
              "    <tr>\n",
              "      <th>19</th>\n",
              "      <td>0.091270</td>\n",
              "      <td>0.439307</td>\n",
              "      <td>0.282083</td>\n",
              "      <td>0.192860</td>\n",
              "      <td>0.276011</td>\n",
              "    </tr>\n",
              "    <tr>\n",
              "      <th>20</th>\n",
              "      <td>0.066793</td>\n",
              "      <td>0.465259</td>\n",
              "      <td>0.286547</td>\n",
              "      <td>0.235427</td>\n",
              "      <td>0.298136</td>\n",
              "    </tr>\n",
              "  </tbody>\n",
              "</table>\n",
              "</div>"
            ],
            "text/plain": [
              "         q_4       q_6       q_8      q_10      q_12\n",
              "0   0.052075  0.656093  0.085342  0.366163  0.564977\n",
              "1   0.119076  0.440507  0.279172  0.196561  0.348152\n",
              "2   0.095235  0.425730  0.294664  0.190883  0.358050\n",
              "3   0.057654  0.460712  0.110502  0.239388  0.307633\n",
              "4   0.059059  0.510358  0.173487  0.267625  0.344412\n",
              "5   0.066592  0.382073  0.175563  0.129742  0.308134\n",
              "6   0.055243  0.388227  0.163406  0.172440  0.293773\n",
              "7   0.091270  0.439307  0.282083  0.192860  0.276011\n",
              "8   0.066793  0.465259  0.286547  0.235427  0.298136\n",
              "9   0.057654  0.460712  0.110502  0.239388  0.307633\n",
              "10  0.059059  0.510358  0.173487  0.267625  0.344412\n",
              "11  0.066592  0.382073  0.175563  0.129742  0.308134\n",
              "12  0.055243  0.388227  0.163406  0.172440  0.293773\n",
              "13  0.091270  0.439307  0.282083  0.192860  0.276011\n",
              "14  0.066793  0.465259  0.286547  0.235427  0.298136\n",
              "15  0.057654  0.460712  0.110502  0.239388  0.307633\n",
              "16  0.059059  0.510358  0.173487  0.267625  0.344412\n",
              "17  0.066592  0.382073  0.175563  0.129742  0.308134\n",
              "18  0.055243  0.388227  0.163406  0.172440  0.293773\n",
              "19  0.091270  0.439307  0.282083  0.192860  0.276011\n",
              "20  0.066793  0.465259  0.286547  0.235427  0.298136"
            ]
          },
          "execution_count": 11,
          "metadata": {},
          "output_type": "execute_result"
        }
      ],
      "source": [
        "# 扱いやすいように、見出しをつけてpandasデータフレームにする。\n",
        "import pandas as pd\n",
        "\n",
        "df_MeA = pd.DataFrame(boos, columns=[\"q_4\", \"q_6\", \"q_8\", \"q_10\", \"q_12\"])\n",
        "df_MeA"
      ]
    },
    {
      "cell_type": "markdown",
      "metadata": {},
      "source": [
        "ペアプロットを作る。"
      ]
    },
    {
      "cell_type": "code",
      "execution_count": 12,
      "metadata": {},
      "outputs": [
        {
          "data": {
            "text/plain": [
              "<seaborn.axisgrid.PairGrid at 0x282e26910>"
            ]
          },
          "execution_count": 12,
          "metadata": {},
          "output_type": "execute_result"
        },
        {
          "data": {
            "image/png": "[encoded data removed]",
            "text/plain": [
              "<Figure size 1250x1250 with 30 Axes>"
            ]
          },
          "metadata": {},
          "output_type": "display_data"
        }
      ],
      "source": [
        "import seaborn as sns\n",
        "\n",
        "sns.pairplot(df_MeA, diag_kws=dict(bins=100, binwidth=0.02))"
      ]
    },
    {
      "cell_type": "markdown",
      "metadata": {},
      "source": [
        "これと比較すると、300 K/60000 barはMethane Aと言える。"
      ]
    },
    {
      "cell_type": "markdown",
      "metadata": {},
      "source": [
        "Methane A構造のQ4〜Q12の5次元の散布を、5次元のガウス関数で近似し、その共分散行列を作る。(本当は、熱揺らぎで分布がひろがった状態で計算したほうがいい)"
      ]
    },
    {
      "cell_type": "code",
      "execution_count": 61,
      "metadata": {},
      "outputs": [
        {
          "data": {
            "text/plain": [
              "(array([[0.06934371, 0.45048262, 0.20161619, 0.2126691 , 0.32168941]]),\n",
              " array([[[ 0.00029863, -0.00021637,  0.00089581, -0.0002733 ,\n",
              "          -0.00017541],\n",
              "         [-0.00021637,  0.00384639, -0.00101346,  0.00329318,\n",
              "           0.00290437],\n",
              "         [ 0.00089581, -0.00101346,  0.00490349, -0.00099787,\n",
              "          -0.00160458],\n",
              "         [-0.0002733 ,  0.00329318, -0.00099787,  0.00303498,\n",
              "           0.00221868],\n",
              "         [-0.00017541,  0.00290437, -0.00160458,  0.00221868,\n",
              "           0.00353271]]]))"
            ]
          },
          "execution_count": 61,
          "metadata": {},
          "output_type": "execute_result"
        }
      ],
      "source": [
        "import numpy as np\n",
        "from sklearn.mixture import GaussianMixture\n",
        "\n",
        "gm = GaussianMixture(n_components=1, random_state=0).fit(boos)\n",
        "gm.means_, gm.covariances_"
      ]
    }
  ],
  "metadata": {
    "colab": {
      "include_colab_link": true,
      "provenance": []
    },
    "kernelspec": {
      "display_name": "Python 3",
      "name": "python3"
    },
    "language_info": {
      "codemirror_mode": {
        "name": "ipython",
        "version": 3
      },
      "file_extension": ".py",
      "mimetype": "text/x-python",
      "name": "python",
      "nbconvert_exporter": "python",
      "pygments_lexer": "ipython3",
      "version": "3.11.4"
    }
  },
  "nbformat": 4,
  "nbformat_minor": 0
}
