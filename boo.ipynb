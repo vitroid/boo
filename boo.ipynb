{
  "cells": [
    {
      "cell_type": "markdown",
      "metadata": {
        "colab_type": "text",
        "id": "view-in-github"
      },
      "source": [
        "<a href=\"https://colab.research.google.com/github/vitroid/boo/blob/main/boo.ipynb\" target=\"_parent\"><img src=\"https://colab.research.google.com/assets/colab-badge.svg\" alt=\"Open In Colab\"/></a>"
      ]
    },
    {
      "cell_type": "markdown",
      "metadata": {
        "id": "Z6q8NAzGajSr"
      },
      "source": [
        "局所構造の指標としてよく使われるQ(あるいはq)について考察します。\n",
        "\n",
        "Qは球面調和関数を使って定義される指標です。\n",
        "\n",
        "$$ 式だれか書いて $$"
      ]
    },
    {
      "cell_type": "markdown",
      "metadata": {
        "id": "cDOfG76katXC"
      },
      "source": [
        "## 球面調和関数\n",
        "\n",
        "球面調和関数は、球面上に立つ波の形に関する基底です。\n",
        "\n",
        "「基底」、特に正規直交基底は、次のような条件を満たす関数群$b_n(x)$です。\n",
        "* 任意の関数$f(x)$が、基底の線形結合で表せる。(係数を$a_n$とする)\n",
        "$$ f(x) = \\sum_n a_n b_n(x) $$\n",
        "* 異なる基底同士を積分すると0 (直交性)\n",
        "$$ \\int_x b_m(x)b_n(x) \\mathrm d x=0 $$\n",
        "* 同じ基底の絶対値は1 (正規性)\n",
        "$$ \\int_x b_m(x)b_m(x) \\mathrm d x=1 $$\n",
        "\n",
        "最も身近な基底として、フーリエ基底があります。1次元の箱の中の波動関数は、n=1,2,3,4,...の正弦波で書ける、というあれです。\n",
        "\n",
        "球面調和関数の場合、球面上の関数なので、$x$に相当するものは、極座標系における2つの角$(\\theta, \\phi)$です。また、量子数も2つあります。\n",
        "\n",
        "球面調和関数は、水素原子の波動関数の式のなかにすでに出てきているので、見たことがあるはずです。\n",
        "\n"
      ]
    },
    {
      "cell_type": "markdown",
      "metadata": {
        "id": "IMAKeGVnpFQF"
      },
      "source": [
        "モルワイデ図法の座標変換については別紙。\n",
        "https://colab.research.google.com/drive/1XAcSpD2fKkiu3o69CJ93okSR_-Rput3A?usp=sharing\n",
        "\n",
        "経度緯度と、極座標では緯度(縦方法)の表しかたが違うことに注意。経度緯度では緯度0は赤道だが、極座標では$\\theta=0$は北極を表す。"
      ]
    },
    {
      "cell_type": "code",
      "execution_count": null,
      "metadata": {
        "id": "55GKoAmTad6k"
      },
      "outputs": [],
      "source": [
        "import numpy as np\n",
        "\n",
        "\n",
        "def equirectangular_grid(width=1000):\n",
        "    height = width // 2\n",
        "\n",
        "    x = np.linspace(-np.pi, +np.pi, width)\n",
        "    y = np.linspace(-np.pi/2, +np.pi/2, height)\n",
        "\n",
        "    return np.meshgrid(x, y)\n",
        "\n",
        "\n",
        "def mollweide_grid(width=1000):\n",
        "    \"\"\"\n",
        "    モルワイデ図のピクセル(x,y)に射影される、球面上の経度alphaと緯度deltaを返す。\n",
        "\n",
        "    alpha, deltaいずれも、1000x500の二次元array.\n",
        "    図の外側ではalpha=NaN.\n",
        "    \"\"\"\n",
        "    X, Y = equirectangular_grid(width)\n",
        "\n",
        "    theta = np.arcsin(2*Y/np.pi)\n",
        "    alpha = X / ((1-(2*Y/np.pi)**2)**0.5)\n",
        "    alpha[alpha<-np.pi] = np.nan\n",
        "    alpha[alpha>np.pi] = np.nan\n",
        "    delta = np.arcsin((2*theta+np.sin(2*theta)) / np.pi)\n",
        "\n",
        "    return alpha, delta\n"
      ]
    },
    {
      "cell_type": "markdown",
      "metadata": {
        "id": "58x4rCuvl8a5"
      },
      "source": [
        "`scipy.special.sph_harm`関数は引数の順番がキモい。\n",
        "$Y_l^m(\\theta, \\phi)$==`sph_harm(m, l, phi, theta)`"
      ]
    },
    {
      "cell_type": "code",
      "execution_count": null,
      "metadata": {
        "colab": {
          "base_uri": "https://localhost:8080/",
          "height": 1000
        },
        "id": "YT4qubRnmbJy",
        "outputId": "6944e75d-b381-4a53-dfbc-96ff4550a145"
      },
      "outputs": [],
      "source": [
        "import scipy.special\n",
        "import matplotlib.pyplot as plt\n",
        "\n",
        "keido, ido = mollweide_grid(width=100)\n",
        "# 緯度と極座標のthetaでは角度のとりかたが違う。\n",
        "theta = np.pi/2 - ido\n",
        "\n",
        "for l in range(1,4):           # 主量子数\n",
        "    for m in range(-l, l+1):   # 副量子数\n",
        "        # sph_harm関数は、経度緯度をarrayで渡せば、まとめて計算してくれる(numpy-ish)\n",
        "        Y = scipy.special.sph_harm(m, l, keido, theta, out=None)\n",
        "\n",
        "        # 2次元配列なので画像として表示する\n",
        "        fig, axs = plt.subplots(1,2)\n",
        "        sc = axs[0].imshow(Y.real, cmap='bwr')\n",
        "        sc = axs[1].imshow(Y.imag, cmap='bwr')\n",
        "        axs[0].set_title(f\"(l,m)=({l},{m}) real\")\n",
        "        axs[1].set_title(f\"(l,m)=({l},{m}) imaginary\")\n",
        "        # axs[1].colorbar(sc)\n",
        "        plt.show()"
      ]
    },
    {
      "cell_type": "markdown",
      "metadata": {
        "id": "Hsjk6k3QBe0z"
      },
      "source": [
        "実際に、球面調和関数が正規直交基底であることを数値積分で確かめてみよう。\n",
        "\n",
        "球面関数$f(\\theta, \\phi)$の球面積分は次のように書ける。\n",
        "$$I=\\int_0^\\pi\\int_0^{2\\pi}f(\\theta,\\phi)\\sin\\theta\\mathrm d\\phi\\mathrm d\\theta$$\n",
        "$Y_l^n$と$Y_{l'}^{n'}$が直交しているかどうかを確認しよう。"
      ]
    },
    {
      "cell_type": "code",
      "execution_count": null,
      "metadata": {
        "colab": {
          "base_uri": "https://localhost:8080/"
        },
        "id": "6fXvIQ3MBeOv",
        "outputId": "049b22c9-42bd-43c8-8b14-d90e636c4e29"
      },
      "outputs": [],
      "source": [
        "def spherical_integ(f, theta, dtheta, dphi):\n",
        "    \"\"\"\n",
        "    theta, phiは極方向、赤道方向の等間隔tick\n",
        "    fはshapeが(theta, phi)の配列\n",
        "    \"\"\"\n",
        "    integrand = f * np.sin(theta)[:, np.newaxis]\n",
        "    return np.sum(integrand) * dtheta * dphi\n",
        "\n",
        "# 角度目盛を作る\n",
        "theta_tick = np.linspace(0, np.pi, 1001)\n",
        "phi_tick = np.linspace(-np.pi, np.pi, 2001)\n",
        "# 目盛の間隔\n",
        "dtheta = np.pi / 1000\n",
        "dphi= 2*np.pi / 2000\n",
        "# meshgridにする = 2次元の配列に展開される。\n",
        "phi, theta = np.meshgrid(phi_tick, theta_tick)\n",
        "\n",
        "# 先に球面調和関数を計算しておく。\n",
        "Y = dict()\n",
        "for l in range(3):\n",
        "    for m in range(-l, +l+1):\n",
        "        Y[l, m] = scipy.special.sph_harm(m, l, phi, theta, out=None)\n",
        "\n",
        "I = np.zeros([len(Y), len(Y)])\n",
        "for i, (q1, f1) in enumerate(Y.items()):\n",
        "    for j, (q2, f2) in enumerate(Y.items()):\n",
        "        # 複素関数なので、共役複素数をかけて積分する。\n",
        "        # 雑な数値積分なので、ぴったりとは合わない。\n",
        "        I[i,j] = spherical_integ(f1*f2.conj(), theta_tick, dtheta, dphi).round(2)\n",
        "        # 量子数と交差積分\n",
        "        # if I[i,j] > 0.5:\n",
        "        print(q1,q2,I[i,j])\n"
      ]
    },
    {
      "cell_type": "markdown",
      "metadata": {
        "id": "10wFJZjPJFNg"
      },
      "source": [
        "フーリエ変換と同じように、任意の球面関数を、基底の線形和に分解できるのかどうかも知りたい。\n",
        "\n",
        "例として、Y(1,0)を$\\theta$方向に45度傾けた関数を作ってみる。\n",
        "\n",
        "$(\\theta, \\phi)$で表される、半径1の球面上の点の点のユークリッド座標は$$(x,y,z)=(\\sin\\theta\\cos\\phi, \\sin\\theta\\sin\\phi, \\cos\\theta)$$\n",
        "ユークリッド座標から極座標への逆変換は?\n",
        "$$x^2+y^2=\\sin^2\\theta$$\n",
        "$$z^2=\\cos^2\\theta$$\n",
        "$$\\theta=\\arctan{\\sqrt{x^2+y^2}\\over z}$$\n",
        "$$\\phi=\\arctan{y\\over x}$$\n",
        "\n",
        "これを$y$軸に関して45度回転させると?\n",
        "$$(x',z')=(x\\cos 45-z\\sin 45, x\\sin 45+z\\cos 45)={1\\over \\sqrt 2}(x-z, x+z)$$\n",
        "回転後の球面上の点のユークリッド座標は\n",
        "$$(x',y',z')={1\\over \\sqrt 2}(\\sin\\theta\\cos\\phi-\\cos\\theta, \\sqrt{2} \\sin\\theta\\sin\\phi, \\sin\\theta\\cos\\phi+\\cos\\theta)$$\n",
        "\n"
      ]
    },
    {
      "cell_type": "code",
      "execution_count": null,
      "metadata": {
        "colab": {
          "base_uri": "https://localhost:8080/",
          "height": 283
        },
        "id": "mFe494vTj5t_",
        "outputId": "61f67388-fea1-4444-d234-e1d4261ed771"
      },
      "outputs": [],
      "source": [
        "import scipy.special\n",
        "import matplotlib.pyplot as plt\n",
        "\n",
        "def euclid_to_euler(x,y,z):\n",
        "    return np.arctan2((x**2+y**2)**0.5, z), np.arctan2(y, x)\n",
        "\n",
        "\n",
        "def euler_to_euclid(theta, phi):\n",
        "    x = np.sin(theta)*np.cos(phi)\n",
        "    y = np.sin(theta)*np.sin(phi)\n",
        "    z = np.cos(theta)\n",
        "    return np.array([x,y,z])\n",
        "\n",
        "\n",
        "def rotate_y(theta, phi, angle):\n",
        "    \"\"\"\n",
        "    極座標の点を、y軸回りに回転させ、回転後の点の極座標を返す。\n",
        "    numpy compliant.\n",
        "    \"\"\"\n",
        "    x,y,z = euler_to_euclid(theta, phi)\n",
        "\n",
        "    xp = ( x*np.cos(angle) - z*np.sin(angle) )\n",
        "    yp = y\n",
        "    zp = ( x*np.sin(angle) + z*np.cos(angle) )\n",
        "\n",
        "    return euclid_to_euler(xp,yp,zp)\n",
        "\n",
        "\n",
        "phi, ido = mollweide_grid(width=400)\n",
        "theta = np.pi/2 - ido\n",
        "\n",
        "thetap, phip = rotate_y(theta, phi, np.pi/4)\n",
        "\n",
        "f = scipy.special.sph_harm(0, 1, phip, thetap, out=None).real\n",
        "sc = plt.imshow(f, cmap='bwr')\n",
        "plt.colorbar(sc)\n",
        "plt.show()"
      ]
    },
    {
      "cell_type": "markdown",
      "metadata": {
        "id": "zBPSJXqrGhvU"
      },
      "source": [
        "この球面関数を、球面調和基底で変換する(線形結合の係数を求める)。\n"
      ]
    },
    {
      "cell_type": "code",
      "execution_count": null,
      "metadata": {
        "colab": {
          "base_uri": "https://localhost:8080/"
        },
        "id": "hxotONDC9m7Z",
        "outputId": "0085165b-f2b1-4997-fcf9-b6a8753e226d"
      },
      "outputs": [],
      "source": [
        "def spherical_integ(f, theta, dtheta, dphi):\n",
        "    \"\"\"\n",
        "    theta, phiは極方向、赤道方向の等間隔tick\n",
        "    fはshapeが(theta, phi)の配列\n",
        "    \"\"\"\n",
        "    integrand = f * np.sin(theta)[:, np.newaxis]\n",
        "    return np.sum(integrand) * dtheta * dphi\n",
        "\n",
        "# 角度目盛を作る\n",
        "theta_tick = np.linspace(0, np.pi, 1001)\n",
        "phi_tick = np.linspace(-np.pi, np.pi, 2001)\n",
        "# 目盛の間隔\n",
        "dtheta = np.pi / 1000\n",
        "dphi= 2*np.pi / 2000\n",
        "# meshgridにする\n",
        "phi, theta = np.meshgrid(phi_tick, theta_tick)\n",
        "\n",
        "thetap, phip = rotate_y(theta, phi, np.pi/4)\n",
        "\n",
        "f = scipy.special.sph_harm(0, 1, phip, thetap, out=None).real\n",
        "\n",
        "# 先に球面調和関数を計算しておく。\n",
        "Y = dict()\n",
        "for l in range(3):\n",
        "    for m in range(-l, +l+1):\n",
        "        Y[l, m] = scipy.special.sph_harm(m, l, phi, theta, out=None)\n",
        "\n",
        "I = np.zeros([len(Y), len(Y)])\n",
        "for i, (q1, f1) in enumerate(Y.items()):\n",
        "    # 複素関数なので、共役複素数をかけて積分する。\n",
        "    # 雑な数値積分なので、ぴったりとは合わない。\n",
        "    I = spherical_integ(f1*f.conj(), theta_tick, dtheta, dphi).round(3)\n",
        "    # 量子数と交差積分\n",
        "    # if I[i,j] > 0.5:\n",
        "    print(q1,I)\n"
      ]
    },
    {
      "cell_type": "markdown",
      "metadata": {
        "id": "QFW_nGqhA2gf"
      },
      "source": [
        "非0成分は$(l, m)=(1,\\{-1,0,1\\})$のみ。これらを線形結合して、プロットしてみよう。\n"
      ]
    },
    {
      "cell_type": "code",
      "execution_count": null,
      "metadata": {
        "colab": {
          "base_uri": "https://localhost:8080/",
          "height": 283
        },
        "id": "aSKsFhgP_4tY",
        "outputId": "b0d2f08b-e883-46a7-bdde-66712515453f"
      },
      "outputs": [],
      "source": [
        "import scipy.special\n",
        "import matplotlib.pyplot as plt\n",
        "\n",
        "keido, ido = mollweide_grid(width=100)\n",
        "theta = np.pi/2 - ido\n",
        "\n",
        "f = scipy.special.sph_harm(-1, 1, keido, theta, out=None)/2\n",
        "f += scipy.special.sph_harm(0, 1, keido, theta, out=None)/2**0.5\n",
        "f += scipy.special.sph_harm(+1, 1, keido, theta, out=None)/(-2)\n",
        "\n",
        "sc = plt.imshow(f.real, cmap='bwr')\n",
        "plt.colorbar(sc)\n",
        "plt.show()"
      ]
    },
    {
      "cell_type": "markdown",
      "metadata": {
        "id": "rRv_4C5GBdml"
      },
      "source": [
        "ナイス! これでわかったのは、\n",
        "* 球面調和関数は確かに基底を張っている。任意の球面関数は、球面調和関数の和で表せそうだ。\n",
        "* ここで作った球面関数は、$l=1$の球面調和関数の実数部分を45度回したものだった。これは、$l=1$の球面調和関数の線形結合であらわせ、より高次の球面調和関数は必要としなかった。この点もフーリエ変換によく似ている。\n",
        "* 線形結合の係数から、元の関数が、球面調和関数のどれをどちらむきに傾けたものかを推定できるはずだ。(これ重要)\n",
        "* 実数の球面関数を展開した場合、重みも実数になる。"
      ]
    },
    {
      "cell_type": "markdown",
      "metadata": {
        "id": "XrWB-3dtCaBE"
      },
      "source": [
        "## 結合配向秩序\n",
        "\n",
        "球面調和関数が一次元における正弦関数に似ていることがだいたいわかったので、次に結合配向秩序を検討する。\n",
        "\n",
        "結晶は、原子がある秩序に従って整列したものである。結晶のなかでは、隣接する原子は結合していて、その結合ベクトルの方向は特定の方向に向いている。例えば、体心立方格子であれば、4方向(逆向きを含めれば8方向)の結合ベクトルがあり、互いに70.5度の角をなしている。この結合ベクトルの向きを球面上に射影すると、8つの点が生じる。(余談だが、Gyroid構造に出現するねじれ角も70.5度。幾何学的に関連しているはず。)\n",
        "\n",
        "熱揺らぎがあると、結合ベクトルの方向もゆらぎ、球面上の射影は8個の点から8個の分布となる。この球面関数を球面調和関数展開すれば、配向に関する特徴量(各基底の重み)を得ることができる。\n",
        "\n",
        "結晶は、常に空間座標(シミュレーションセルの辺方向)に沿った方向に生じるとは限らない。結晶が傾いていると、特徴量も変化するので、基底の重みだけを見比べると、別の構造に見えてしまう。\n",
        "\n",
        "そこで、結晶が傾いていても、同じ数値が得られるように、うまく基底の重みを組みあわせる。これが結合配向秩序指標である。ちょうど、フーリエ変換において、位相のずれを無視するために、パワースペクトルに変換することに対応する。(パワースペクトルは各振動数でのsin成分とcos成分の二乗和で計算される。)\n",
        "\n",
        "現実には、系全体が単結晶になることは稀であり、結合配向秩序も場所ごとに別々に計算することが多い。(場所ごとに計算する場合は、部分空間を切りとり、その中にある結合の方向のみで結合配向秩序を計算する)\n",
        "\n",
        "多結晶で、いろんな向きの結晶粒が生じていたとしても、それらが同じ結晶構造をもっていれば、場所ごとの結合配向秩序の値は同一となる。\n",
        "\n"
      ]
    },
    {
      "cell_type": "markdown",
      "metadata": {
        "id": "UdSokqet0xlz"
      },
      "source": [
        "まず、方向が$(\\theta, \\phi)$ボンド1本に対して、次の量を計算する。\n",
        "$$q=Y_l^m(\\theta, \\phi)$$\n",
        "これは、実際には以下の畳み込み積分と同じ意味なので、球面上のデルタ関数を球面調和関数展開しているとみなせる。\n",
        "$$q=\\iint\\delta(\\theta-\\theta', \\phi-\\phi')Y_l^m(\\theta', \\phi')\\sin\\theta'\\mathrm d\\theta\\mathrm d\\phi$$\n",
        "結合は複数あるが、独立なので、単純に足しあわせればいい。\n",
        "$$q_{lm}(i)={1\\over N}\\sum_{j\\ne i}^NY_l^m\\left(\\theta_{ij}, \\phi_{ij}\\right)$$\n",
        "これが、ある原子$i$と、周囲の原子$j$の間の結合の球面調和関数展開であり、\n",
        "異なる$(l,m)$に対して異なる「重み」(スカラ量)が得られる。\n",
        "\n",
        "結合配向秩序指数$q_l(i)$はこれを用いて次のように定義される。\n",
        "$$q_l(i)=\\sqrt{{4\\pi\\over 2l+1}\\sum_{m=-l}^{l}\\left|q_{lm}(i)\\right|^2}$$\n",
        "これは、球面調和関数展開した係数の二乗和をとり、規格化したものにすぎない。\n",
        "\n",
        "いくつかのよくある局所構造に対して、結合配向秩序を計算しておこう。"
      ]
    },
    {
      "cell_type": "code",
      "execution_count": null,
      "metadata": {
        "colab": {
          "base_uri": "https://localhost:8080/",
          "height": 450
        },
        "id": "yc4ATvOu5gT4",
        "outputId": "fff152ef-58f0-4735-96bc-a4791c1cff70"
      },
      "outputs": [],
      "source": [
        "import numpy as np\n",
        "import scipy\n",
        "import matplotlib.pyplot as plt\n",
        "\n",
        "def euclid_to_euler(x,y,z):\n",
        "    return np.arctan2((x**2+y**2)**0.5, z), np.arctan2(y, x)\n",
        "\n",
        "\n",
        "def qlm(l,m,x,y,z):\n",
        "    \"\"\"\n",
        "    球面ベクトルの球面調和関数展開\n",
        "    \"\"\"\n",
        "    theta, phi = euclid_to_euler(x,y,z)\n",
        "    # print(theta,phi)\n",
        "    return scipy.special.sph_harm(m, l, phi, theta, out=None).mean()\n",
        "\n",
        "\n",
        "def boo(l, x,y,z):\n",
        "    \"\"\"\n",
        "    結合配向秩序指標\n",
        "    \"\"\"\n",
        "    s = 0\n",
        "    for m in range(-l, l+1):\n",
        "        q = qlm(l,m, x,y,z)\n",
        "        s += q * q.conj()\n",
        "    return (s*4*np.pi/(2*l+1))**0.5\n",
        "\n",
        "# 単純立方格子。隣接ベクトルは6本。\n",
        "scl = np.array([[-1.0, 0.0, 0.0],\n",
        "                 [0.0, -1.0, 0.0],\n",
        "                 [0.0, 0.0, -1.0],\n",
        "                 [1.0, 0.0, 0.0],\n",
        "                 [0.0, 1.0, 0.0],\n",
        "                 [0.0, 0.0, 1.0]\n",
        "                 ])\n",
        "# 体心立方格子\n",
        "bcc = np.array([[-1,-1,-1],\n",
        "                [-1,-1,+1],\n",
        "                [-1,+1,-1],\n",
        "                [-1,+1,+1],\n",
        "                [+1,-1,-1],\n",
        "                [+1,-1,+1],\n",
        "                [+1,+1,-1],\n",
        "                [+1,+1,+1],\n",
        "                # Steinhardtとあわせるために、第二隣接までとる。\n",
        "                [-2.0, 0.0, 0.0],\n",
        "                 [0.0, -2.0, 0.0],\n",
        "                 [0.0, 0.0, -2.0],\n",
        "                 [2.0, 0.0, 0.0],\n",
        "                 [0.0, 2.0, 0.0],\n",
        "                 [0.0, 0.0, 2.0]\n",
        "                ]) / 3**0.5\n",
        "# ダイヤモンド格子\n",
        "dia = np.array([[-1,-1,-1],\n",
        "                [+1,-1,-1],\n",
        "                [+1,-1,+1],\n",
        "                [+1,+1,-1]]) / 3**0.5\n",
        "# 面心立方格子\n",
        "fcc = np.array([[-1,-1,0],\n",
        "                [-1,+1,0],\n",
        "                [+1,-1,0],\n",
        "                [+1,+1,0],\n",
        "                [-1,0,-1],\n",
        "                [-1,0,+1],\n",
        "                [+1,0,-1],\n",
        "                [+1,0,+1],\n",
        "                [0,-1,-1],\n",
        "                [0,-1,+1],\n",
        "                [0,+1,-1],\n",
        "                [0,+1,+1]]) / 2**0.5\n",
        "\n",
        "\n",
        "samples = {\"BCC\": bcc, \"SCL\": scl, \"Diamond\": dia, \"FCC\": fcc}\n",
        "for label, vectors in samples.items():\n",
        "    x,y,z = vectors.T\n",
        "\n",
        "    Y = []\n",
        "    for l in range(13):\n",
        "        Y.append(boo(l,x,y,z))\n",
        "\n",
        "    Y = np.array(Y)\n",
        "\n",
        "    plt.plot(Y.real, label=label)\n",
        "\n",
        "\n",
        "plt.legend()\n",
        "\n"
      ]
    },
    {
      "cell_type": "markdown",
      "metadata": {
        "id": "Z77gQcIyBmJj"
      },
      "source": [
        "(2023-10-03 [Steinhardt論文](https://journals.aps.org/prb/abstract/10.1103/PhysRevB.28.784)でチェック済み)\n",
        "\n",
        "よく使われる$q_6$は、どの結晶構造でも大きな値になるので、秩序化しているかどうかの目安にはよさそうだ。\n",
        "\n",
        "結晶構造を見わけたい場合は、複数の特徴量をあわせるのが良い。BCCとダイヤモンドは、実質的には識別不可能に思える。(反対向きベクトルも含めると全く同じ方向にベクトルが向いている)\n"
      ]
    },
    {
      "cell_type": "markdown",
      "metadata": {
        "id": "T9aDUIRvCrZg"
      },
      "source": [
        "座標系を回転させても$q_l$の値が変化しないことを確認しておく。"
      ]
    },
    {
      "cell_type": "code",
      "execution_count": null,
      "metadata": {
        "colab": {
          "base_uri": "https://localhost:8080/",
          "height": 282
        },
        "id": "ZU9F1rk4C8vb",
        "outputId": "773c9b80-9562-4c74-b801-02448170d571"
      },
      "outputs": [],
      "source": [
        "# 回転行列を自分で書くのが面倒なので、scipyを流用する。\n",
        "from scipy.spatial.transform import Rotation\n",
        "\n",
        "# ランダム回転行列\n",
        "R = Rotation.from_rotvec(np.random.random(3)).as_matrix()\n",
        "\n",
        "samples = {\"BCC\": bcc, \"SCL\": scl, \"Diamond\": dia, \"FCC\": fcc}\n",
        "for label, vectors in samples.items():\n",
        "    x,y,z = (vectors@R).T\n",
        "\n",
        "    Y = []\n",
        "    for l in range(13):\n",
        "        Y.append(boo(l,x,y,z))\n",
        "\n",
        "    Y = np.array(Y)\n",
        "\n",
        "    plt.plot(Y.real, label=label)\n",
        "\n",
        "plt.legend()\n"
      ]
    },
    {
      "cell_type": "markdown",
      "metadata": {
        "id": "PZCWnYyAEdf1"
      },
      "source": [
        "問題ない!"
      ]
    },
    {
      "cell_type": "markdown",
      "metadata": {
        "id": "Glz5G4gbSXzO"
      },
      "source": [
        "## 結合配向秩序の先へ\n",
        "\n",
        "* 結合配向秩序が傾きの情報を捨てていることを再検討する。\n",
        "  * 結合配向秩序ではなく、あえて基底の重みを直接調べることで、結晶粒がどの方向に傾いているかを読みとれるはずだ。位相に注目するのである。\n",
        "    * 球面調和関数に回転行列をかけたものは何になるのか。\n",
        "\n",
        "  * 例えば氷であれば、隣接分子との4本の結合だけで結合配向秩序を計算すると、いつもだいたい同じような値になる。これは短距離秩序と呼ばれる。氷の結晶構造の違いは、もっと遠方の結合のつながり方で見分けなければならない。これは中距離秩序と言われている。第二隣接まで含めた、中距離空間をきりとって結合配向秩序を計算するのが安直な方法だが、それでいいのか?それよりも、中心分子と第一隣接で計算される球面関数と、第一隣接分子周囲の球面関数の間の「傾き」を捉えられないか?\n",
        "* 一般には、メタンや水のような、四面体型やBCC型を好む構造にフィットするのは、$Y_{3m)$のはず。なぜ$Y_{6m}$系の$q_6$がもてはやされるのか。\n",
        "  * $(Y_{3,1},Y_{3,2},Y_{3,3})$は四面体型分子の傾きを捉える良い指標ではないか?\n",
        "* ダイヤモンド構造とBCCを区別する方法はないのか?\n",
        "  * 第一隣接との結合のQ、第一と第二隣接の間の結合のQのほかに、前者と後者の交差項を考える?"
      ]
    },
    {
      "cell_type": "markdown",
      "metadata": {
        "id": "4eAFjzKYznlZ"
      },
      "source": [
        "## メタン分子の配向を一般的に表現する\n",
        "\n",
        "メタンは4本の等価なCH結合を持ち対称数が12もある。オイラー角で分子の配向を表現しても、同じ向きかどうかを判断するのは難しい。\n",
        "\n",
        "そこで、4本の結合の方向を球面調和展開し、その係数で分子の向きを表現することにする。\n",
        "\n",
        "上に書いたように、$l=3$は正四面体分子に適した、4山4谷分布をもっているので、これでメタンの配向を展開してみる。\n",
        "\n"
      ]
    },
    {
      "cell_type": "code",
      "execution_count": null,
      "metadata": {
        "colab": {
          "base_uri": "https://localhost:8080/"
        },
        "id": "ft_bbfquKiQ8",
        "outputId": "6b98b188-2196-440e-9e84-cc705f55d96b"
      },
      "outputs": [],
      "source": [
        "import scipy.special\n",
        "\n",
        "\n",
        "def euclid_to_euler(x,y,z):\n",
        "    return np.arctan2((x**2+y**2)**0.5, z), np.arctan2(y, x)\n",
        "\n",
        "\n",
        "def qlm(l,m,x,y,z):\n",
        "    \"\"\"\n",
        "    球面ベクトルの球面調和関数展開\n",
        "    \"\"\"\n",
        "    theta, phi = euclid_to_euler(x,y,z)\n",
        "    # print(theta,phi)\n",
        "    return scipy.special.sph_harm(m, l, phi, theta, out=None).mean()\n",
        "\n",
        "\n",
        "# ダイヤモンド格子\n",
        "dia = np.array([[-1,-1,-1],\n",
        "                [-1,+1,+1],\n",
        "                [+1,-1,+1],\n",
        "                [+1,+1,-1]]) / 3**0.5\n",
        "\n",
        "ax = np.radians(0)\n",
        "ay = np.radians(0)\n",
        "az = np.radians(90)\n",
        "\n",
        "rot_x = np.array([[1.0, 0.0, 0.0],\n",
        "                  [0.0, np.cos(ax), np.sin(ax)],\n",
        "                  [0.0,-np.sin(ax), np.cos(ax)]])\n",
        "rot_y = np.array([[np.cos(ay), 0.0,-np.sin(ay)],\n",
        "                  [0.0, 1.0, 0.0],\n",
        "                  [np.sin(ay), 0.0, np.cos(ay)]])\n",
        "rot_z = np.array([[np.cos(az), np.sin(az), 0.0],\n",
        "                  [-np.sin(az), np.cos(az), 0.0],\n",
        "                  [0.0, 0.0, 1.0]])\n",
        "\n",
        "dia = dia @ rot_x @ rot_y @ rot_z\n",
        "\n",
        "coeffs = dict()\n",
        "for l in (3,):\n",
        "    for m in range(-l, +l+1):\n",
        "        coeff = 0\n",
        "        for v in dia:\n",
        "            coeff += qlm(l, m, *v)\n",
        "        print((l, m), coeff)\n",
        "        coeffs[l, m] = coeff\n",
        "\n"
      ]
    },
    {
      "cell_type": "code",
      "execution_count": null,
      "metadata": {
        "colab": {
          "base_uri": "https://localhost:8080/",
          "height": 462
        },
        "id": "PH6lfrFW5o-n",
        "outputId": "4df7f02b-946b-45a1-d833-7300ddea493e"
      },
      "outputs": [],
      "source": [
        "# 係数をたしあわせる\n",
        "\n",
        "\n",
        "import numpy as np\n",
        "import matplotlib.pyplot as plt\n",
        "\n",
        "\n",
        "\n",
        "\n",
        "\n",
        "\n",
        "phi, ido = mollweide_grid(width=400)\n",
        "# phi, ido = equirectangular_grid(width=400)\n",
        "theta = np.pi/2 - ido\n",
        "\n",
        "f = 0\n",
        "for l in (3,):\n",
        "    for m in range(-l, +l+1):\n",
        "        f += scipy.special.sph_harm(m, l, phi, theta, out=None) * coeffs[l, m]\n",
        "\n",
        "sc = plt.imshow(f.real, cmap='bwr')\n",
        "# sc = plt.imshow(np.abs(f), cmap='bwr')\n",
        "plt.colorbar(sc)\n",
        "plt.show()"
      ]
    },
    {
      "cell_type": "markdown",
      "metadata": {
        "id": "vrzzncl1Hgjn"
      },
      "source": [
        "実部に出現する数値は全部で4種類。実際には、オイラー角でも2変数で済むので、4つは過剰で、2次元に埋めこめるはずだが、数値の規則性がわからない。"
      ]
    },
    {
      "cell_type": "markdown",
      "metadata": {},
      "source": [
        "## 実際のトラジェクトリで調査\n",
        "\n",
        "以下はローカルに実行する前提で書く(Colabでは動かない)"
      ]
    },
    {
      "cell_type": "code",
      "execution_count": null,
      "metadata": {
        "id": "DzSX5SNVHe45"
      },
      "outputs": [],
      "source": [
        "from read_gro3 import read_gro\n",
        "\n",
        "with open(\"/Users/matto/work/master_project/250K5000bar/300-last.gro\") as f:\n",
        "    for gro in read_gro(f):\n",
        "        break\n",
        "\n",
        "# cell matrix\n",
        "cellMatrix = gro[\"cell\"]\n",
        "\n",
        "# inverse of the cell matrix\n",
        "celli = np.linalg.inv(cellMatrix)\n",
        "\n",
        "# pickup positions of carbon atoms, in the fractional coordinate\n",
        "carbons = gro[\"position\"][gro[\"atom\"] == \"C\"] @ celli\n",
        "carbons.shape"
      ]
    },
    {
      "cell_type": "markdown",
      "metadata": {},
      "source": [
        "とりあえず、原子間距離をみつもる。短距離のRDFを作る。"
      ]
    },
    {
      "cell_type": "code",
      "execution_count": null,
      "metadata": {
        "id": "rAYeA1ad_6Pe"
      },
      "outputs": [],
      "source": [
        "import pairlist as pl\n",
        "import numpy as np\n",
        "import matplotlib.pyplot as plt\n",
        "\n",
        "# make the histogram of the distances of pairs within 1 nm.\n",
        "H = np.histogram(\n",
        "    [d for _, _, d in pl.pairs_iter(carbons, 1.0, cellMatrix)], range=(0, 1.0), bins=100\n",
        ")\n",
        "plt.plot(H[1][:-1], H[0])"
      ]
    },
    {
      "cell_type": "markdown",
      "metadata": {},
      "source": [
        "第一隣接は0.5 nmぐらいまでか。\n",
        "\n",
        "各原子について、0.5 nm以内にある隣接分子との相対座標ベクトルを作る。(規格化しておく)"
      ]
    },
    {
      "cell_type": "code",
      "execution_count": null,
      "metadata": {},
      "outputs": [],
      "source": [
        "import networkx as nx\n",
        "\n",
        "# make the adjacency matrix within 0.5 nm\n",
        "g = nx.Graph([(i, j) for i, j in pl.pairs_iter(carbons, 0.5, cellMatrix, distance=False)])\n",
        "\n",
        "neighbors = dict()\n",
        "\n",
        "for node in g:\n",
        "    # vectors to the neighbor carbons\n",
        "    vectors = carbons[g.neighbors(node)] - carbons[node]\n",
        "\n",
        "    # PBC treatment\n",
        "    vectors -= np.floor(vectors + 0.5)\n",
        "\n",
        "    # normalize (length is unity)\n",
        "    vectors = vectors / np.linalg.norm(vectors, axis=1)[:, np.newaxis]\n",
        "\n",
        "    # and store.\n",
        "    neighbors[node] = vectors"
      ]
    },
    {
      "cell_type": "markdown",
      "metadata": {},
      "source": [
        "$q_{\\{4,6,8,10,12\\}}$を計算。"
      ]
    },
    {
      "cell_type": "code",
      "execution_count": null,
      "metadata": {},
      "outputs": [],
      "source": [
        "import boo\n",
        "\n",
        "boos = np.zeros([carbons.shape[0], 5])\n",
        "\n",
        "for node in g:\n",
        "    for i, l in enumerate([4, 6, 8, 10, 12]):\n",
        "        X = neighbors[node][:, 0]\n",
        "        Y = neighbors[node][:, 1]\n",
        "        Z = neighbors[node][:, 2]\n",
        "        boos[node, i] = boo.boo(l, X, Y, Z)\n",
        "\n",
        "boos"
      ]
    },
    {
      "cell_type": "markdown",
      "metadata": {},
      "source": [
        "とりあえず分解できそうか、q4,q6,q8で3次元散布図にしてみよう。\n",
        "\n",
        "z座標によって構造が違うようなので、z座標の値で配色する。"
      ]
    },
    {
      "cell_type": "code",
      "execution_count": null,
      "metadata": {},
      "outputs": [],
      "source": [
        "import plotly.graph_objects as go\n",
        "import numpy as np\n",
        "\n",
        "fig = go.Figure()\n",
        "\n",
        "fig.add_trace(\n",
        "    go.Scatter3d(\n",
        "        x=boos[:, 0],\n",
        "        y=boos[:, 1],\n",
        "        z=boos[:, 2],\n",
        "        mode=\"markers\",\n",
        "        marker=dict(size=2, color=carbons[:, 2]),\n",
        "    )\n",
        ")\n",
        "\n",
        "fig.update_layout(\n",
        "    title=\"q4,6,8\",\n",
        "    autosize=True,\n",
        "    width=800,\n",
        "    height=800,\n",
        "    margin=dict(l=65, r=50, b=65, t=90),\n",
        ")\n",
        "\n",
        "fig.show()"
      ]
    },
    {
      "cell_type": "markdown",
      "metadata": {},
      "source": [
        "z座標の違いがbooの違いに対応している。ただし、クラスタリングするには分布の形があまりよろしくない。\n",
        "\n",
        "まだこの先の解析は保留。"
      ]
    },
    {
      "cell_type": "markdown",
      "metadata": {},
      "source": [
        "### 並進ベクトルの抽出\n",
        "\n",
        "並進して重なるような局所構造の対をさがし、それらをつなぐベクトルを列挙する。\n",
        "\n",
        "過去にそのようなプログラムを書いた覚えがある。\n"
      ]
    },
    {
      "cell_type": "code",
      "execution_count": null,
      "metadata": {},
      "outputs": [],
      "source": [
        "import numpy as np\n",
        "from read_gro3 import read_gro\n",
        "import networkx as nx\n",
        "import pairlist as pl\n",
        "import yaplotlib as yap\n",
        "\n",
        "with open(\"/Users/matto/work/master_project/250K5000bar/300-last.gro\") as f:\n",
        "    for gro in read_gro(f):\n",
        "        break\n",
        "\n",
        "# cell matrix\n",
        "cellmat = gro[\"cell\"]\n",
        "\n",
        "# inverse of the cell matrix\n",
        "celli = np.linalg.inv(cellmat)\n",
        "\n",
        "# pickup positions of carbon atoms, in the fractional coordinate\n",
        "atomPositions = gro[\"position\"]\n",
        "carbons = atomPositions[gro[\"atom\"] == \"C\"] @ celli\n",
        "\n",
        "\n",
        "def smatcher(\n",
        "    vertices: np.ndarray, cellMatrix: np.ndarray, templateRadius: float, allowance: float\n",
        "):\n",
        "    \"\"\"Slide and match the local atomic arrangements\n",
        "\n",
        "    Args:\n",
        "        vertices (np.ndarray): atomic positions\n",
        "        cellMatrix (np.ndarray): cell matrix = bundle of cell vectors\n",
        "        templateRadius (float): cropping radius of the template\n",
        "        allowance (float): allowed displacements between the template and target\n",
        "\n",
        "    Yields:\n",
        "        _type_: _description_\n",
        "    \"\"\"\n",
        "    f = open(\"log.yap\", \"w\")\n",
        "\n",
        "    f.write(yap.Line(np.zeros(3), cellMatrix[0]))\n",
        "    f.write(yap.Line(np.zeros(3), cellMatrix[1]))\n",
        "    f.write(yap.Line(np.zeros(3), cellMatrix[2]))\n",
        "    f.write(yap.Color(3))\n",
        "\n",
        "    # make the adjacency matrix within radius\n",
        "    g = nx.Graph(\n",
        "        [\n",
        "            (i, j)\n",
        "            for i, j in pl.pairs_iter(carbons, templateRadius, cellMatrix, distance=False)\n",
        "        ]\n",
        "    )\n",
        "\n",
        "    # 各原子の周囲にある原子の座標\n",
        "    neighbors = []\n",
        "    for v, vertex in enumerate(vertices):\n",
        "        d = vertices[g[v]] - vertex\n",
        "        # vertex is the origin\n",
        "        d -= np.floor(d + 0.5)\n",
        "        neighbors.append(d)\n",
        "\n",
        "    # 照合作業。pythonではつらい。あまり遠いペアは今は照合しない。\n",
        "    for i, j in pl.pairs_iter(carbons, templateRadius * 2, cellMatrix, distance=False):\n",
        "        nei = neighbors[i] @ cellMatrix\n",
        "        nej = neighbors[j] @ cellMatrix\n",
        "        count = 0\n",
        "        # matching without PBC\n",
        "        for a, b, d in pl.pairs_iter(nei, allowance, pos2=nej):\n",
        "            count += 1\n",
        "        # テンプレートの原子数の半分以上が、ターゲットの周囲の原子に近いと判定されたら、\n",
        "        if count > len(nei) // 2:\n",
        "            d = vertices[j] - vertices[i]\n",
        "            d -= np.floor(d + 0.5)\n",
        "            yield i, j, templateRadius, allowance, count, d @ cellMatrix\n",
        "            print(\n",
        "                yap.Line(vertices[i] @ cellMatrix, (vertices[i] + d) @ cellMatrix),\n",
        "                end=\"\",\n",
        "                file=f,\n",
        "            )\n",
        "            f.flush()\n",
        "\n",
        "\n",
        "# テンプレートの大きさ。\n",
        "templateRadius = 0.5  # nm\n",
        "\n",
        "# 照合時のずれ長さの許容範囲\n",
        "allowance = 0.1\n",
        "\n",
        "\n",
        "vecs = []\n",
        "target = []\n",
        "for smatch in smatcher(carbons, cellmat, templateRadius, allowance):\n",
        "    # i,j : pair of similar arrangement\n",
        "    # radius, matchradius: conditions\n",
        "    # count: number of matched atoms\n",
        "    # vec: relative vector\n",
        "    i, j, templateRadius, allowance, count, vec = smatch\n",
        "    vecs.append(vec)\n",
        "    target.append(i)\n",
        "\n",
        "vecs = np.array(vecs)\n",
        "zpos = carbons[target, 2]"
      ]
    },
    {
      "cell_type": "code",
      "execution_count": null,
      "metadata": {},
      "outputs": [],
      "source": [
        "# z相対座標が0.2以下の場合だけを\n",
        "\n",
        "import plotly.graph_objects as go\n",
        "import numpy as np\n",
        "\n",
        "fig = go.Figure()\n",
        "\n",
        "fig.add_trace(\n",
        "    go.Scatter3d(\n",
        "        x=vecs[zpos<0.2, 0],\n",
        "        y=vecs[zpos<0.2, 1],\n",
        "        z=vecs[zpos<0.2, 2],\n",
        "        mode=\"markers\",\n",
        "        marker=dict(size=2, color=zpos[zpos<0.2]),\n",
        "    )\n",
        ")\n",
        "\n",
        "fig.update_layout(\n",
        "    title=\"local arrangement\",\n",
        "    autosize=True,\n",
        "    width=800,\n",
        "    height=800,\n",
        "    margin=dict(l=65, r=50, b=65, t=90),\n",
        ")\n",
        "\n",
        "fig.show()"
      ]
    },
    {
      "cell_type": "markdown",
      "metadata": {},
      "source": [
        "FCCに見える。"
      ]
    },
    {
      "cell_type": "code",
      "execution_count": null,
      "metadata": {},
      "outputs": [],
      "source": []
    }
  ],
  "metadata": {
    "colab": {
      "include_colab_link": true,
      "provenance": []
    },
    "kernelspec": {
      "display_name": "Python 3",
      "name": "python3"
    },
    "language_info": {
      "codemirror_mode": {
        "name": "ipython",
        "version": 3
      },
      "file_extension": ".py",
      "mimetype": "text/x-python",
      "name": "python",
      "nbconvert_exporter": "python",
      "pygments_lexer": "ipython3",
      "version": "3.11.4"
    }
  },
  "nbformat": 4,
  "nbformat_minor": 0
}
